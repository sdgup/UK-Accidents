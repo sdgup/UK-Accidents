{
 "cells": [
  {
   "cell_type": "code",
   "execution_count": 1,
   "metadata": {
    "code_folding": []
   },
   "outputs": [],
   "source": [
    "import os\n",
    "import sys\n",
    "\n",
    "os.environ[\"SPARK_HOME\"] = \"/usr/spark2.4.3\"\n",
    "os.environ[\"PYLIB\"] = os.environ[\"SPARK_HOME\"] + \"/python/lib\"\n",
    "os.environ[\"PYSPARK_PYTHON\"] = \"/usr/local/anaconda/bin/python\" \n",
    "os.environ[\"PYSPARK_DRIVER_PYTHON\"] = \"/usr/local/anaconda/bin/python\"\n",
    "sys.path.insert(0, os.environ[\"PYLIB\"] +\"/py4j-0.10.7-src.zip\")\n",
    "sys.path.insert(0, os.environ[\"PYLIB\"] +\"/pyspark.zip\")\n",
    " \n",
    "from pyspark import SparkContext, SparkConf\n",
    "from pyspark.sql import SQLContext\n",
    "from pyspark.sql import SparkSession\n",
    "from functools import reduce\n",
    "from pyspark.sql.functions import col, lit, when\n",
    "\n",
    "#import required libraries\n",
    "import numpy as np\n",
    "import pyspark\n",
    "\n",
    "\n",
    "#Create Spark session\n",
    "spark = SparkSession.builder.getOrCreate()\n",
    "sqlContext = SQLContext(spark)\n",
    "\n",
    "# Import libraries and other functions\n",
    "from io import StringIO\n",
    "from collections import namedtuple\n",
    "from pyspark.sql import Row\n",
    "from pyspark.sql.types import *\n",
    "from pyspark.sql.functions import *\n",
    "\n",
    "import csv\n",
    "import matplotlib.pyplot as plt\n",
    "import gmplot\n",
    "import pandas as pd"
   ]
  },
  {
   "cell_type": "markdown",
   "metadata": {},
   "source": [
    "# Create \"Accidents/Casualty and Vehicle\" DataFrame"
   ]
  },
  {
   "cell_type": "code",
   "execution_count": 2,
   "metadata": {},
   "outputs": [],
   "source": [
    "#create a DataFrame directly from \"dft-road-casualty-statistics-accident\" csv files for last 5 years \n",
    "\n",
    "accident_5Years = spark.read.option(\"header\", \"true\").option(\"delimiter\", \",\")\\\n",
    ".option(\"inferSchema\", \"true\").csv(\"hdfs:///user/imat5322_376434/*-statistics-accident-*.csv\")\n",
    "\n",
    "#create a DataFrame directly from \"dft-road-casualty-statistics-casualty\" csv files for last 5 years  \n",
    "\n",
    "casualty_5Years = spark.read.option(\"header\", \"true\").option(\"delimiter\", \",\")\\\n",
    ".option(\"inferSchema\", \"true\").csv(\"hdfs:///user/imat5322_376434/*-statistics-casualty-*.csv\")\n",
    "\n",
    "#create a DataFrame directly from \"dft-road-casualty-statistics-vehicle\" csv files for last 5 years  \n",
    "\n",
    "vehicle_5Years = spark.read.option(\"header\", \"true\").option(\"delimiter\", \",\")\\\n",
    ".option(\"inferSchema\", \"true\").csv(\"hdfs:///user/imat5322_376434/*-statistics-vehicle-*.csv\")"
   ]
  },
  {
   "cell_type": "code",
   "execution_count": 3,
   "metadata": {},
   "outputs": [
    {
     "data": {
      "text/plain": [
       "597973"
      ]
     },
     "execution_count": 3,
     "metadata": {},
     "output_type": "execute_result"
    }
   ],
   "source": [
    "# Count rows of the dataframe accidents_5Years\n",
    "accident_5Years.count()"
   ]
  },
  {
   "cell_type": "code",
   "execution_count": 4,
   "metadata": {},
   "outputs": [
    {
     "data": {
      "text/plain": [
       "781716"
      ]
     },
     "execution_count": 4,
     "metadata": {},
     "output_type": "execute_result"
    }
   ],
   "source": [
    "# Count rows the dataframe casualty_5Years\n",
    "casualty_5Years.count()"
   ]
  },
  {
   "cell_type": "code",
   "execution_count": 5,
   "metadata": {},
   "outputs": [
    {
     "data": {
      "text/plain": [
       "1101591"
      ]
     },
     "execution_count": 5,
     "metadata": {},
     "output_type": "execute_result"
    }
   ],
   "source": [
    "# Count rows of the dataframe vehicle_5Years\n",
    "vehicle_5Years.count()"
   ]
  },
  {
   "cell_type": "code",
   "execution_count": 6,
   "metadata": {
    "code_folding": []
   },
   "outputs": [
    {
     "name": "stdout",
     "output_type": "stream",
     "text": [
      "root\n",
      " |-- accident_index: string (nullable = true)\n",
      " |-- accident_year: integer (nullable = true)\n",
      " |-- accident_reference: string (nullable = true)\n",
      " |-- location_easting_osgr: string (nullable = true)\n",
      " |-- location_northing_osgr: string (nullable = true)\n",
      " |-- longitude: string (nullable = true)\n",
      " |-- latitude: string (nullable = true)\n",
      " |-- police_force: integer (nullable = true)\n",
      " |-- accident_severity: integer (nullable = true)\n",
      " |-- number_of_vehicles: integer (nullable = true)\n",
      " |-- number_of_casualties: integer (nullable = true)\n",
      " |-- date: string (nullable = true)\n",
      " |-- day_of_week: integer (nullable = true)\n",
      " |-- time: string (nullable = true)\n",
      " |-- local_authority_district: integer (nullable = true)\n",
      " |-- local_authority_ons_district: string (nullable = true)\n",
      " |-- local_authority_highway: string (nullable = true)\n",
      " |-- first_road_class: integer (nullable = true)\n",
      " |-- first_road_number: integer (nullable = true)\n",
      " |-- road_type: integer (nullable = true)\n",
      " |-- speed_limit: string (nullable = true)\n",
      " |-- junction_detail: integer (nullable = true)\n",
      " |-- junction_control: integer (nullable = true)\n",
      " |-- second_road_class: integer (nullable = true)\n",
      " |-- second_road_number: integer (nullable = true)\n",
      " |-- pedestrian_crossing_human_control: integer (nullable = true)\n",
      " |-- pedestrian_crossing_physical_facilities: integer (nullable = true)\n",
      " |-- light_conditions: integer (nullable = true)\n",
      " |-- weather_conditions: integer (nullable = true)\n",
      " |-- road_surface_conditions: integer (nullable = true)\n",
      " |-- special_conditions_at_site: integer (nullable = true)\n",
      " |-- carriageway_hazards: integer (nullable = true)\n",
      " |-- urban_or_rural_area: integer (nullable = true)\n",
      " |-- did_police_officer_attend_scene_of_accident: integer (nullable = true)\n",
      " |-- trunk_road_flag: integer (nullable = true)\n",
      " |-- lsoa_of_accident_location: string (nullable = true)\n",
      "\n"
     ]
    }
   ],
   "source": [
    "# Display the dataframe accident_5Years\n",
    "accident_5Years.printSchema()"
   ]
  },
  {
   "cell_type": "code",
   "execution_count": 7,
   "metadata": {},
   "outputs": [
    {
     "name": "stdout",
     "output_type": "stream",
     "text": [
      "root\n",
      " |-- accident_index: string (nullable = true)\n",
      " |-- accident_year: integer (nullable = true)\n",
      " |-- accident_reference: string (nullable = true)\n",
      " |-- vehicle_reference: integer (nullable = true)\n",
      " |-- casualty_reference: integer (nullable = true)\n",
      " |-- casualty_class: integer (nullable = true)\n",
      " |-- sex_of_casualty: integer (nullable = true)\n",
      " |-- age_of_casualty: integer (nullable = true)\n",
      " |-- age_band_of_casualty: integer (nullable = true)\n",
      " |-- casualty_severity: integer (nullable = true)\n",
      " |-- pedestrian_location: integer (nullable = true)\n",
      " |-- pedestrian_movement: integer (nullable = true)\n",
      " |-- car_passenger: integer (nullable = true)\n",
      " |-- bus_or_coach_passenger: integer (nullable = true)\n",
      " |-- pedestrian_road_maintenance_worker: integer (nullable = true)\n",
      " |-- casualty_type: integer (nullable = true)\n",
      " |-- casualty_home_area_type: integer (nullable = true)\n",
      " |-- casualty_imd_decile: integer (nullable = true)\n",
      "\n"
     ]
    }
   ],
   "source": [
    "# Display the dataframe accident_5Years\n",
    "casualty_5Years.printSchema()"
   ]
  },
  {
   "cell_type": "code",
   "execution_count": 8,
   "metadata": {},
   "outputs": [
    {
     "name": "stdout",
     "output_type": "stream",
     "text": [
      "root\n",
      " |-- accident_index: string (nullable = true)\n",
      " |-- accident_year: integer (nullable = true)\n",
      " |-- accident_reference: string (nullable = true)\n",
      " |-- vehicle_reference: integer (nullable = true)\n",
      " |-- vehicle_type: integer (nullable = true)\n",
      " |-- towing_and_articulation: integer (nullable = true)\n",
      " |-- vehicle_manoeuvre: integer (nullable = true)\n",
      " |-- vehicle_direction_from: integer (nullable = true)\n",
      " |-- vehicle_direction_to: integer (nullable = true)\n",
      " |-- vehicle_location_restricted_lane: integer (nullable = true)\n",
      " |-- junction_location: integer (nullable = true)\n",
      " |-- skidding_and_overturning: integer (nullable = true)\n",
      " |-- hit_object_in_carriageway: integer (nullable = true)\n",
      " |-- vehicle_leaving_carriageway: integer (nullable = true)\n",
      " |-- hit_object_off_carriageway: integer (nullable = true)\n",
      " |-- first_point_of_impact: integer (nullable = true)\n",
      " |-- vehicle_left_hand_drive: integer (nullable = true)\n",
      " |-- journey_purpose_of_driver: integer (nullable = true)\n",
      " |-- sex_of_driver: integer (nullable = true)\n",
      " |-- age_of_driver: integer (nullable = true)\n",
      " |-- age_band_of_driver: integer (nullable = true)\n",
      " |-- engine_capacity_cc: integer (nullable = true)\n",
      " |-- propulsion_code: integer (nullable = true)\n",
      " |-- age_of_vehicle: integer (nullable = true)\n",
      " |-- generic_make_model: string (nullable = true)\n",
      " |-- driver_imd_decile: integer (nullable = true)\n",
      " |-- driver_home_area_type: integer (nullable = true)\n",
      "\n"
     ]
    }
   ],
   "source": [
    "#Print the schema structure of dataframe accident_5Years\n",
    "vehicle_5Years.printSchema()"
   ]
  },
  {
   "cell_type": "code",
   "execution_count": 9,
   "metadata": {
    "scrolled": true
   },
   "outputs": [
    {
     "data": {
      "text/plain": [
       "[Row(accident_index='2016010000005', accident_year=2016, accident_reference='010000005', location_easting_osgr='519310', location_northing_osgr='188730', longitude='-0.279323', latitude='51.584754', police_force=1, accident_severity=3, number_of_vehicles=2, number_of_casualties=1, date='01/11/2016', day_of_week=3, time='02:30', local_authority_district=28, local_authority_ons_district='E09000005', local_authority_highway='E09000005', first_road_class=3, first_road_number=4006, road_type=6, speed_limit='30', junction_detail=0, junction_control=-1, second_road_class=-1, second_road_number=-1, pedestrian_crossing_human_control=0, pedestrian_crossing_physical_facilities=0, light_conditions=5, weather_conditions=1, road_surface_conditions=1, special_conditions_at_site=0, carriageway_hazards=0, urban_or_rural_area=1, did_police_officer_attend_scene_of_accident=1, trunk_road_flag=2, lsoa_of_accident_location='E01000543')]"
      ]
     },
     "execution_count": 9,
     "metadata": {},
     "output_type": "execute_result"
    }
   ],
   "source": [
    "accident_5Years.take(1)"
   ]
  },
  {
   "cell_type": "code",
   "execution_count": 10,
   "metadata": {},
   "outputs": [
    {
     "data": {
      "text/plain": [
       "[Row(accident_index='2016010000005', accident_year=2016, accident_reference='010000005', vehicle_reference=1, vehicle_type=8, towing_and_articulation=0, vehicle_manoeuvre=6, vehicle_direction_from=3, vehicle_direction_to=7, vehicle_location_restricted_lane=0, junction_location=0, skidding_and_overturning=0, hit_object_in_carriageway=0, vehicle_leaving_carriageway=0, hit_object_off_carriageway=0, first_point_of_impact=3, vehicle_left_hand_drive=1, journey_purpose_of_driver=1, sex_of_driver=1, age_of_driver=51, age_band_of_driver=8, engine_capacity_cc=-1, propulsion_code=-1, age_of_vehicle=-1, generic_make_model='-1', driver_imd_decile=3, driver_home_area_type=1)]"
      ]
     },
     "execution_count": 10,
     "metadata": {},
     "output_type": "execute_result"
    }
   ],
   "source": [
    "vehicle_5Years.take(1)"
   ]
  },
  {
   "cell_type": "code",
   "execution_count": 11,
   "metadata": {},
   "outputs": [
    {
     "data": {
      "text/plain": [
       "[Row(accident_index='2016010000005', accident_year=2016, accident_reference='010000005', vehicle_reference=2, casualty_reference=1, casualty_class=1, sex_of_casualty=1, age_of_casualty=23, age_band_of_casualty=5, casualty_severity=3, pedestrian_location=0, pedestrian_movement=0, car_passenger=0, bus_or_coach_passenger=0, pedestrian_road_maintenance_worker=0, casualty_type=2, casualty_home_area_type=1, casualty_imd_decile=4)]"
      ]
     },
     "execution_count": 11,
     "metadata": {},
     "output_type": "execute_result"
    }
   ],
   "source": [
    "casualty_5Years.take(1)"
   ]
  },
  {
   "cell_type": "code",
   "execution_count": 12,
   "metadata": {},
   "outputs": [],
   "source": [
    "# Join dataframes by primary key"
   ]
  },
  {
   "cell_type": "code",
   "execution_count": 13,
   "metadata": {},
   "outputs": [],
   "source": [
    "# joining accident_5Years with casualty_5Years on primary key=\"accident_index\"\n",
    "\n",
    "joned_acciddent_casualty=accident_5Years.join(casualty_5Years,\n",
    "accident_5Years[\"accident_index\"] == casualty_5Years[\"accident_index\"],\n",
    "how=\"Full\").drop(casualty_5Years[\"accident_index\"])"
   ]
  },
  {
   "cell_type": "code",
   "execution_count": 14,
   "metadata": {},
   "outputs": [],
   "source": [
    "# joining joned_acciddent_casualty with vehicle_5Years on primary key=\"accident_index\"\n",
    "# joined_allDF is the joined dataframe of three dataframes\n",
    "\n",
    "joined_dataframe=joned_acciddent_casualty.join(vehicle_5Years,\n",
    "joned_acciddent_casualty[\"accident_index\"] == vehicle_5Years[\"accident_index\"],\n",
    "how=\"Full\")"
   ]
  },
  {
   "cell_type": "code",
   "execution_count": 15,
   "metadata": {},
   "outputs": [
    {
     "data": {
      "text/plain": [
       "[Row(accident_index='2016010000053', accident_year=2016, accident_reference='010000053', location_easting_osgr='525750', location_northing_osgr='179560', longitude='-0.189693', latitude='51.500944', police_force=1, accident_severity=3, number_of_vehicles=1, number_of_casualties=1, date='01/11/2016', day_of_week=3, time='13:52', local_authority_district=12, local_authority_ons_district='E09000020', local_authority_highway='E09000020', first_road_class=6, first_road_number=0, road_type=6, speed_limit='30', junction_detail=0, junction_control=-1, second_road_class=-1, second_road_number=-1, pedestrian_crossing_human_control=0, pedestrian_crossing_physical_facilities=0, light_conditions=1, weather_conditions=1, road_surface_conditions=1, special_conditions_at_site=0, carriageway_hazards=0, urban_or_rural_area=1, did_police_officer_attend_scene_of_accident=1, trunk_road_flag=2, lsoa_of_accident_location='E01002889', accident_year=2016, accident_reference='010000053', vehicle_reference=1, casualty_reference=1, casualty_class=3, sex_of_casualty=1, age_of_casualty=74, age_band_of_casualty=10, casualty_severity=3, pedestrian_location=9, pedestrian_movement=5, car_passenger=0, bus_or_coach_passenger=0, pedestrian_road_maintenance_worker=2, casualty_type=0, casualty_home_area_type=1, casualty_imd_decile=8, accident_index='2016010000053', accident_year=2016, accident_reference='010000053', vehicle_reference=1, vehicle_type=19, towing_and_articulation=0, vehicle_manoeuvre=1, vehicle_direction_from=5, vehicle_direction_to=1, vehicle_location_restricted_lane=0, junction_location=0, skidding_and_overturning=0, hit_object_in_carriageway=0, vehicle_leaving_carriageway=0, hit_object_off_carriageway=0, first_point_of_impact=2, vehicle_left_hand_drive=1, journey_purpose_of_driver=1, sex_of_driver=1, age_of_driver=52, age_band_of_driver=8, engine_capacity_cc=1998, propulsion_code=2, age_of_vehicle=12, generic_make_model='-1', driver_imd_decile=6, driver_home_area_type=1)]"
      ]
     },
     "execution_count": 15,
     "metadata": {},
     "output_type": "execute_result"
    }
   ],
   "source": [
    "#initialize the dataframe using take() function\n",
    "joined_dataframe.take(1)"
   ]
  },
  {
   "cell_type": "code",
   "execution_count": 16,
   "metadata": {},
   "outputs": [],
   "source": [
    "# Drop ambiguous colums which are repeated after joining.\n",
    "\n",
    "joined_allDF_after_cleaning=joined_dataframe.drop(casualty_5Years[\"accident_year\"]) \\\n",
    "                                    .drop(vehicle_5Years[\"accident_year\"]) \\\n",
    "                                    .drop(casualty_5Years[\"accident_reference\"]) \\\n",
    "                                    .drop(vehicle_5Years[\"accident_reference\"]) \\\n",
    "                                    .drop(vehicle_5Years[\"vehicle_reference\"]) \\\n",
    "                                    .drop(vehicle_5Years[\"accident_index\"])\n",
    "                                    "
   ]
  },
  {
   "cell_type": "code",
   "execution_count": 17,
   "metadata": {},
   "outputs": [
    {
     "name": "stdout",
     "output_type": "stream",
     "text": [
      "Total columns of joined_DF.columns is 74\n"
     ]
    }
   ],
   "source": [
    "#Checking the number of columns of final joined DF\n",
    "\n",
    "print(\"Total columns of joined_DF.columns \\\n",
    "is \" + str(len(joined_allDF_after_cleaning.columns)))"
   ]
  },
  {
   "cell_type": "code",
   "execution_count": 18,
   "metadata": {},
   "outputs": [],
   "source": [
    "\n",
    "#Dropping unwanted columns\n",
    "\n",
    "joined_allDF_after_cleaning1=joined_allDF_after_cleaning.drop(\"driver_home_area_type\") \\\n",
    "                                    .drop(\"driver_imd_decile\").drop(\"police_force\") \\\n",
    "                                    .drop(\"local_authority_district\").drop(\"local_authority_ons_district\") \\\n",
    "                                    .drop(\"local_authority_highway\").drop(\"first_road_class\") \\\n",
    "                                    .drop(\"first_road_number\").drop(\"junction_detail\") \\\n",
    "                                    .drop(\"junction_control\").drop(\"second_road_class\") \\\n",
    "                                    .drop(\"second_road_number\").drop(\"pedestrian_crossing_human_control\") \\\n",
    "                                    .drop(\"pedestrian_crossing_physical_facilities\").drop(\"did_police_officer_attend_scene_of_accident\") \\\n",
    "                                    .drop(\"pedestrian_location\").drop(\"towing_and_articulation\") \\\n",
    "                                    .drop(\"vehicle_direction_from\").drop(\"vehicle_direction_to\") \\\n",
    "                                    .drop(\"junction_location\").drop(\"propulsion_code\") \\\n",
    "                                    .drop(\"driver_imd_decile\").drop(\"driver_home_area_type\") \\\n",
    "                                    .drop(\"location_easting_osgr\").drop(\"location_northing_osgr\") \\\n",
    "                                    .drop(\"accident_reference\").drop(\"carriageway_hazards\") \\\n",
    "                                    .drop(\"trunk_road_flag\").drop(\"vehicle_location_restricted_lane\") \\\n",
    "                                    .drop(\"hit_object_in_carriageway\").drop(\"hit_object_off_carriageway\") \\\n",
    "                                    .drop(\"vehicle_left_hand_drive\").drop(\"pedestrian_movement\") \\\n",
    "                                    .drop(\"bus_or_coach_passenger\").drop(\"pedestrian_road_maintenance_worker\") \\\n",
    "                                    .drop(\"casualty_type\").drop(\"casualty_imd_decile\")\n"
   ]
  },
  {
   "cell_type": "code",
   "execution_count": 19,
   "metadata": {
    "scrolled": true
   },
   "outputs": [
    {
     "name": "stdout",
     "output_type": "stream",
     "text": [
      "Total columns of joined_DF.columns is 39\n"
     ]
    }
   ],
   "source": [
    "#Checking the number of columns of final joined DF\n",
    "\n",
    "print(\"Total columns of joined_DF.columns \\\n",
    "is \" + str(len(joined_allDF_after_cleaning1.columns)))"
   ]
  },
  {
   "cell_type": "code",
   "execution_count": null,
   "metadata": {},
   "outputs": [],
   "source": [
    "# Check Supporting Data to use to translate keys to meaningful terms (lookup table)\n",
    "# https://data.gov.uk/dataset/cb7ae6f0-4be6-4935-9277-47e5ce24a11f/road-safety-data\n"
   ]
  },
  {
   "cell_type": "code",
   "execution_count": 20,
   "metadata": {},
   "outputs": [],
   "source": [
    "#Convert numerical column values into meaningful data\n",
    "\n",
    "from pyspark.sql.functions import regexp_replace \n",
    "\n",
    "joined_DF = joined_allDF_after_cleaning1. \\\n",
    "withColumn(\"accident_severity\", regexp_replace(\"accident_severity\" , \"1\" ,\"Fatal\")). \\\n",
    "withColumn(\"accident_severity\", regexp_replace(\"accident_severity\" , \"2\" ,\"Serious\")). \\\n",
    "withColumn(\"accident_severity\", regexp_replace(\"accident_severity\" , \"3\" ,\"Slight\")). \\\n",
    "withColumn(\"Day_of_Week\", regexp_replace(\"Day_of_Week\",\"1\",\"Sunday\")). \\\n",
    "withColumn(\"Day_of_Week\", regexp_replace(\"Day_of_Week\",\"2\",\"Monday\")). \\\n",
    "withColumn(\"Day_of_Week\", regexp_replace(\"Day_of_Week\",\"3\",\"Tuesday\")). \\\n",
    "withColumn(\"Day_of_Week\", regexp_replace(\"Day_of_Week\",\"4\",\"Wednessday\")). \\\n",
    "withColumn(\"Day_of_Week\", regexp_replace(\"Day_of_Week\",\"5\",\"Thursday\")). \\\n",
    "withColumn(\"Day_of_Week\", regexp_replace(\"Day_of_Week\",\"6\",\"Friday\")). \\\n",
    "withColumn(\"Day_of_Week\", regexp_replace(\"Day_of_Week\",\"7\",\"Saturday\")). \\\n",
    "withColumn(\"road_type\", regexp_replace(\"road_type\",\"1\",\"Roundabout\")). \\\n",
    "withColumn(\"road_type\", regexp_replace(\"road_type\",\"2\",\"One way street\")). \\\n",
    "withColumn(\"road_type\", regexp_replace(\"road_type\",\"3\",\"Dual carriageway\")). \\\n",
    "withColumn(\"road_type\", regexp_replace(\"road_type\",\"6\",\"Single carriageway\")). \\\n",
    "withColumn(\"road_type\", regexp_replace(\"road_type\",\"7\",\"Slip road\")). \\\n",
    "withColumn(\"road_type\", regexp_replace(\"road_type\",\"9\",\"Unknown\")). \\\n",
    "withColumn(\"road_type\", regexp_replace(\"road_type\",\"12\",\"One way street/Slip road\")). \\\n",
    "withColumn(\"road_type\", regexp_replace(\"road_type\",\"-1\",\"Data missing or out of range\")). \\\n",
    "withColumn(\"light_conditions\", regexp_replace(\"light_conditions\",\"1\",\"Daylight\")). \\\n",
    "withColumn(\"light_conditions\", regexp_replace(\"light_conditions\",\"4\",\"Darkness - lights lit\")). \\\n",
    "withColumn(\"light_conditions\", regexp_replace(\"light_conditions\",\"5\",\"Darkness - lights unlit\")). \\\n",
    "withColumn(\"light_conditions\", regexp_replace(\"light_conditions\",\"6\",\"Darkness - no lighting\")). \\\n",
    "withColumn(\"light_conditions\", regexp_replace(\"light_conditions\",\"7\",\"Darkness - lighting known\")). \\\n",
    "withColumn(\"light_conditions\", regexp_replace(\"light_conditions\",\"-1\",\"Data missing or out of range\")). \\\n",
    "withColumn(\"weather_conditions\", regexp_replace(\"weather_conditions\",\"-1\",\"Data missing or out of range\")). \\\n",
    "withColumn(\"weather_conditions\", regexp_replace(\"weather_conditions\",\"1\",\"Fine no high winds\")). \\\n",
    "withColumn(\"weather_conditions\", regexp_replace(\"weather_conditions\",\"2\",\"Raining no high winds\")). \\\n",
    "withColumn(\"weather_conditions\", regexp_replace(\"weather_conditions\",\"3\",\"Snowing no high winds\")). \\\n",
    "withColumn(\"weather_conditions\", regexp_replace(\"weather_conditions\",\"4\",\"Fine + high winds\")). \\\n",
    "withColumn(\"weather_conditions\", regexp_replace(\"weather_conditions\",\"5\",\"Raining + high winds\")). \\\n",
    "withColumn(\"weather_conditions\", regexp_replace(\"weather_conditions\",\"6\",\"Snowing + high winds\")). \\\n",
    "withColumn(\"weather_conditions\", regexp_replace(\"weather_conditions\",\"7\",\"Fog or mist\")). \\\n",
    "withColumn(\"weather_conditions\", regexp_replace(\"weather_conditions\",\"8\",\"Other\")). \\\n",
    "withColumn(\"weather_conditions\", regexp_replace(\"weather_conditions\",\"9\",\"Unknown\")). \\\n",
    "withColumn(\"road_surface_conditions\", regexp_replace(\"road_surface_conditions\",\"1\",\"Dry\")). \\\n",
    "withColumn(\"road_surface_conditions\", regexp_replace(\"road_surface_conditions\",\"2\",\"Wet or damp\")). \\\n",
    "withColumn(\"road_surface_conditions\", regexp_replace(\"road_surface_conditions\",\"3\",\"Snow\")). \\\n",
    "withColumn(\"road_surface_conditions\", regexp_replace(\"road_surface_conditions\",\"4\",\"Frost or ice\")). \\\n",
    "withColumn(\"road_surface_conditions\", regexp_replace(\"road_surface_conditions\",\"5\",\"Flood over 3cm. deep\")). \\\n",
    "withColumn(\"road_surface_conditions\", regexp_replace(\"road_surface_conditions\",\"6\",\"Oil or diesel\")). \\\n",
    "withColumn(\"road_surface_conditions\", regexp_replace(\"road_surface_conditions\",\"7\",\"Mud\")). \\\n",
    "withColumn(\"road_surface_conditions\", regexp_replace(\"road_surface_conditions\",\"-1\",\"Data missing or out of range\")). \\\n",
    "withColumn(\"road_surface_conditions\", regexp_replace(\"road_surface_conditions\",\"9\",\"Unknown\")). \\\n",
    "withColumn(\"urban_or_rural_area\", regexp_replace(\"urban_or_rural_area\",\"1\",\"Urban\")). \\\n",
    "withColumn(\"urban_or_rural_area\", regexp_replace(\"urban_or_rural_area\",\"2\",\"Rural\")). \\\n",
    "withColumn(\"urban_or_rural_area\", regexp_replace(\"urban_or_rural_area\",\"3\",\"Unallocated\")). \\\n",
    "withColumn(\"urban_or_rural_area\", regexp_replace(\"urban_or_rural_area\",\"-1\",\"Data missing or out of range\")). \\\n",
    "withColumn(\"special_conditions_at_site\", regexp_replace(\"special_conditions_at_site\",\"0\",\"None\")). \\\n",
    "withColumn(\"special_conditions_at_site\", regexp_replace(\"special_conditions_at_site\",\"1\",\"Auto traffic signal - out\")). \\\n",
    "withColumn(\"special_conditions_at_site\", regexp_replace(\"special_conditions_at_site\",\"2\",\"Auto signal part defective\")). \\\n",
    "withColumn(\"special_conditions_at_site\", regexp_replace(\"special_conditions_at_site\",\"3\",\"Road sign or marking defective or obscured\")). \\\n",
    "withColumn(\"special_conditions_at_site\", regexp_replace(\"special_conditions_at_site\",\"4\",\"Roadworks\")). \\\n",
    "withColumn(\"special_conditions_at_site\", regexp_replace(\"special_conditions_at_site\",\"5\",\"Road surface defective\")). \\\n",
    "withColumn(\"special_conditions_at_site\", regexp_replace(\"special_conditions_at_site\",\"6\",\"Oil or diesel\")). \\\n",
    "withColumn(\"special_conditions_at_site\", regexp_replace(\"special_conditions_at_site\",\"7\",\"Mud\")). \\\n",
    "withColumn(\"special_conditions_at_site\", regexp_replace(\"special_conditions_at_site\",\"9\",\"Unknown\")). \\\n",
    "withColumn(\"special_conditions_at_site\", regexp_replace(\"special_conditions_at_site\",\"-1\",\"Data missing or out of range\")). \\\n",
    "withColumn(\"casualty_severity\", regexp_replace(\"casualty_severity\",\"1\",\"Fatal\")). \\\n",
    "withColumn(\"casualty_severity\", regexp_replace(\"casualty_severity\",\"2\",\"Serious\")). \\\n",
    "withColumn(\"casualty_severity\", regexp_replace(\"casualty_severity\",\"3\",\"Slight\")). \\\n",
    "withColumn(\"casualty_class\", regexp_replace(\"casualty_class\",\"1\",\"Driver or rider\")). \\\n",
    "withColumn(\"casualty_class\", regexp_replace(\"casualty_class\",\"2\",\"Passenger\")). \\\n",
    "withColumn(\"casualty_class\", regexp_replace(\"casualty_class\",\"3\",\"Pedestrian\")). \\\n",
    "withColumn(\"sex_of_casualty\", regexp_replace(\"sex_of_casualty\",\"1\",\"Male\")). \\\n",
    "withColumn(\"sex_of_casualty\", regexp_replace(\"sex_of_casualty\",\"2\",\"Female\")). \\\n",
    "withColumn(\"sex_of_casualty\", regexp_replace(\"sex_of_casualty\",\"9\",\"Unknown\")). \\\n",
    "withColumn(\"sex_of_casualty\", regexp_replace(\"sex_of_casualty\",\"-1\",\"Missing Data\")). \\\n",
    "withColumn(\"age_band_of_casualty\", regexp_replace(\"age_band_of_casualty\",\"1\",\"0-5\")). \\\n",
    "withColumn(\"age_band_of_casualty\", regexp_replace(\"age_band_of_casualty\",\"2\",\"6-10\")). \\\n",
    "withColumn(\"age_band_of_casualty\", regexp_replace(\"age_band_of_casualty\",\"3\",\"11-15\")). \\\n",
    "withColumn(\"age_band_of_casualty\", regexp_replace(\"age_band_of_casualty\",\"4\",\"16-20\")). \\\n",
    "withColumn(\"age_band_of_casualty\", regexp_replace(\"age_band_of_casualty\",\"5\",\"21-25\")). \\\n",
    "withColumn(\"age_band_of_casualty\", regexp_replace(\"age_band_of_casualty\",\"6\",\"26-35\")). \\\n",
    "withColumn(\"age_band_of_casualty\", regexp_replace(\"age_band_of_casualty\",\"7\",\"36-45\")). \\\n",
    "withColumn(\"age_band_of_casualty\", regexp_replace(\"age_band_of_casualty\",\"8\",\"46-55\")). \\\n",
    "withColumn(\"age_band_of_casualty\", regexp_replace(\"age_band_of_casualty\",\"9\",\"56-65\")). \\\n",
    "withColumn(\"age_band_of_casualty\", regexp_replace(\"age_band_of_casualty\",\"10\",\"66-75\")). \\\n",
    "withColumn(\"age_band_of_casualty\", regexp_replace(\"age_band_of_casualty\",\"11\",\"Over 75\")). \\\n",
    "withColumn(\"age_band_of_casualty\", regexp_replace(\"age_band_of_casualty\",\"-1\",\"Missing Data\")). \\\n",
    "withColumn(\"car_passenger\", regexp_replace(\"car_passenger\",\"0\",\"Not car passenger\")). \\\n",
    "withColumn(\"car_passenger\", regexp_replace(\"car_passenger\",\"1\",\"Front seat passenger\")). \\\n",
    "withColumn(\"car_passenger\", regexp_replace(\"car_passenger\",\"2\",\"Rear seat passenger\")). \\\n",
    "withColumn(\"car_passenger\", regexp_replace(\"car_passenger\",\"9\",\"Unknown\")). \\\n",
    "withColumn(\"car_passenger\", regexp_replace(\"car_passenger\",\"-1\",\"Missing Data\")). \\\n",
    "withColumn(\"sex_of_driver\", regexp_replace(\"sex_of_driver\",\"1\",\"Male\")). \\\n",
    "withColumn(\"sex_of_driver\", regexp_replace(\"sex_of_driver\",\"2\",\"Female\")). \\\n",
    "withColumn(\"sex_of_driver\", regexp_replace(\"sex_of_driver\",\"3\",\"Unknown\")). \\\n",
    "withColumn(\"sex_of_driver\", regexp_replace(\"sex_of_driver\",\"-1\",\"Data missing or out of range\")). \\\n",
    "withColumn(\"age_band_of_driver\", regexp_replace(\"age_band_of_driver\",\"1\",\"0-5\")). \\\n",
    "withColumn(\"age_band_of_driver\", regexp_replace(\"age_band_of_driver\",\"2\",\"6-10\")). \\\n",
    "withColumn(\"age_band_of_driver\", regexp_replace(\"age_band_of_driver\",\"3\",\"11-15\")). \\\n",
    "withColumn(\"age_band_of_driver\", regexp_replace(\"age_band_of_driver\",\"4\",\"16-20\")). \\\n",
    "withColumn(\"age_band_of_driver\", regexp_replace(\"age_band_of_driver\",\"5\",\"21-25\")). \\\n",
    "withColumn(\"age_band_of_driver\", regexp_replace(\"age_band_of_driver\",\"6\",\"26-35\")). \\\n",
    "withColumn(\"age_band_of_driver\", regexp_replace(\"age_band_of_driver\",\"7\",\"36-45\")). \\\n",
    "withColumn(\"age_band_of_driver\", regexp_replace(\"age_band_of_driver\",\"8\",\"46-55\")). \\\n",
    "withColumn(\"age_band_of_driver\", regexp_replace(\"age_band_of_driver\",\"9\",\"56-65\")). \\\n",
    "withColumn(\"age_band_of_driver\", regexp_replace(\"age_band_of_driver\",\"10\",\"66-75\")). \\\n",
    "withColumn(\"age_band_of_driver\", regexp_replace(\"age_band_of_driver\",\"11\",\"Over 75\")). \\\n",
    "withColumn(\"Journey_Purpose_of_Driver\", regexp_replace(\"Journey_Purpose_of_Driver\",\"1\",\"As part of work\")). \\\n",
    "withColumn(\"Journey_Purpose_of_Driver\", regexp_replace(\"Journey_Purpose_of_Driver\",\"2\",\"Commuting to/from work\")). \\\n",
    "withColumn(\"Journey_Purpose_of_Driver\", regexp_replace(\"Journey_Purpose_of_Driver\",\"3\",\"Taking pupil to/from school\")). \\\n",
    "withColumn(\"Journey_Purpose_of_Driver\", regexp_replace(\"Journey_Purpose_of_Driver\",\"4\",\"Pupil riding to/from school\")). \\\n",
    "withColumn(\"Journey_Purpose_of_Driver\", regexp_replace(\"Journey_Purpose_of_Driver\",\"5\",\"Other\")). \\\n",
    "withColumn(\"Journey_Purpose_of_Driver\", regexp_replace(\"Journey_Purpose_of_Driver\",\"6\",\"Not known\")). \\\n",
    "withColumn(\"Journey_Purpose_of_Driver\", regexp_replace(\"Journey_Purpose_of_Driver\",\"15\",\"Other\")). \\\n",
    "withColumn(\"first_point_of_impact\", regexp_replace(\"first_point_of_impact\",\"0\",\"No impact\")). \\\n",
    "withColumn(\"first_point_of_impact\", regexp_replace(\"first_point_of_impact\",\"1\",\"Front\")). \\\n",
    "withColumn(\"first_point_of_impact\", regexp_replace(\"first_point_of_impact\",\"2\",\"Back\")). \\\n",
    "withColumn(\"first_point_of_impact\", regexp_replace(\"first_point_of_impact\",\"3\",\"Offside\")). \\\n",
    "withColumn(\"first_point_of_impact\", regexp_replace(\"first_point_of_impact\",\"4\",\"Nearside\")). \\\n",
    "withColumn(\"first_point_of_impact\", regexp_replace(\"first_point_of_impact\",\"9\",\"Unknown\")). \\\n",
    "withColumn(\"first_point_of_impact\", regexp_replace(\"first_point_of_impact\",\"-1\",\"Data missing\"))\n",
    "\n",
    "\n",
    "\n",
    "\n",
    "\n",
    "\n",
    "\n",
    "\n",
    "\n",
    "\n",
    "\n",
    "\n",
    "                                            \n",
    "                                                 \n",
    "\n"
   ]
  },
  {
   "cell_type": "code",
   "execution_count": 21,
   "metadata": {
    "scrolled": true
   },
   "outputs": [
    {
     "name": "stdout",
     "output_type": "stream",
     "text": [
      "root\n",
      " |-- accident_index: string (nullable = true)\n",
      " |-- accident_year: integer (nullable = true)\n",
      " |-- longitude: string (nullable = true)\n",
      " |-- latitude: string (nullable = true)\n",
      " |-- accident_severity: string (nullable = true)\n",
      " |-- number_of_vehicles: integer (nullable = true)\n",
      " |-- number_of_casualties: integer (nullable = true)\n",
      " |-- date: string (nullable = true)\n",
      " |-- Day_of_Week: string (nullable = true)\n",
      " |-- time: string (nullable = true)\n",
      " |-- road_type: string (nullable = true)\n",
      " |-- speed_limit: string (nullable = true)\n",
      " |-- light_conditions: string (nullable = true)\n",
      " |-- weather_conditions: string (nullable = true)\n",
      " |-- road_surface_conditions: string (nullable = true)\n",
      " |-- special_conditions_at_site: string (nullable = true)\n",
      " |-- urban_or_rural_area: string (nullable = true)\n",
      " |-- lsoa_of_accident_location: string (nullable = true)\n",
      " |-- vehicle_reference: integer (nullable = true)\n",
      " |-- casualty_reference: integer (nullable = true)\n",
      " |-- casualty_class: string (nullable = true)\n",
      " |-- sex_of_casualty: string (nullable = true)\n",
      " |-- age_of_casualty: integer (nullable = true)\n",
      " |-- age_band_of_casualty: string (nullable = true)\n",
      " |-- casualty_severity: string (nullable = true)\n",
      " |-- car_passenger: string (nullable = true)\n",
      " |-- casualty_home_area_type: integer (nullable = true)\n",
      " |-- vehicle_type: integer (nullable = true)\n",
      " |-- vehicle_manoeuvre: integer (nullable = true)\n",
      " |-- skidding_and_overturning: integer (nullable = true)\n",
      " |-- vehicle_leaving_carriageway: integer (nullable = true)\n",
      " |-- first_point_of_impact: string (nullable = true)\n",
      " |-- Journey_Purpose_of_Driver: string (nullable = true)\n",
      " |-- sex_of_driver: string (nullable = true)\n",
      " |-- age_of_driver: integer (nullable = true)\n",
      " |-- age_band_of_driver: string (nullable = true)\n",
      " |-- engine_capacity_cc: integer (nullable = true)\n",
      " |-- age_of_vehicle: integer (nullable = true)\n",
      " |-- generic_make_model: string (nullable = true)\n",
      "\n"
     ]
    }
   ],
   "source": [
    "# Print the final joined dataframe schema details\n",
    "joined_DF.printSchema()"
   ]
  },
  {
   "cell_type": "code",
   "execution_count": 22,
   "metadata": {
    "scrolled": true
   },
   "outputs": [
    {
     "name": "stdout",
     "output_type": "stream",
     "text": [
      "Total columns of joined_DF.columns is 39\n"
     ]
    }
   ],
   "source": [
    "#Checking the number of columns of final joined DF\n",
    "\n",
    "print(\"Total columns of joined_DF.columns \\\n",
    "is \" + str(len(joined_DF.columns)))"
   ]
  },
  {
   "cell_type": "code",
   "execution_count": 23,
   "metadata": {},
   "outputs": [
    {
     "data": {
      "text/plain": [
       "[Row(accident_index='2016010000053', accident_year=2016, longitude='-0.189693', latitude='51.500944', accident_severity='Slight', number_of_vehicles=1, number_of_casualties=1, date='01/11/2016', Day_of_Week='Tuesday', time='13:52', road_type='Single carriageway', speed_limit='30', light_conditions='Daylight', weather_conditions='Fine no high winds', road_surface_conditions='Dry', special_conditions_at_site='None', urban_or_rural_area='Urban', lsoa_of_accident_location='E01002889', vehicle_reference=1, casualty_reference=1, casualty_class='Pedestrian', sex_of_casualty='Male', age_of_casualty=74, age_band_of_casualty='0-21-250', casualty_severity='Slight', car_passenger='Not car passenger', casualty_home_area_type=1, vehicle_type=19, vehicle_manoeuvre=1, skidding_and_overturning=0, vehicle_leaving_carriageway=0, first_point_of_impact='Back', Journey_Purpose_of_Driver='As part of work', sex_of_driver='Male', age_of_driver=52, age_band_of_driver='46-55', engine_capacity_cc=1998, age_of_vehicle=12, generic_make_model='-1')]"
      ]
     },
     "execution_count": 23,
     "metadata": {},
     "output_type": "execute_result"
    }
   ],
   "source": [
    "joined_DF.take(1)"
   ]
  },
  {
   "cell_type": "code",
   "execution_count": 24,
   "metadata": {},
   "outputs": [
    {
     "name": "stdout",
     "output_type": "stream",
     "text": [
      "root\n",
      " |-- accident_index: string (nullable = true)\n",
      " |-- accident_year: integer (nullable = true)\n",
      " |-- longitude: string (nullable = true)\n",
      " |-- latitude: string (nullable = true)\n",
      " |-- accident_severity: string (nullable = true)\n",
      " |-- number_of_vehicles: integer (nullable = true)\n",
      " |-- number_of_casualties: integer (nullable = true)\n",
      " |-- date: string (nullable = true)\n",
      " |-- Day_of_Week: string (nullable = true)\n",
      " |-- time: string (nullable = true)\n",
      " |-- road_type: string (nullable = true)\n",
      " |-- speed_limit: string (nullable = true)\n",
      " |-- light_conditions: string (nullable = true)\n",
      " |-- weather_conditions: string (nullable = true)\n",
      " |-- road_surface_conditions: string (nullable = true)\n",
      " |-- special_conditions_at_site: string (nullable = true)\n",
      " |-- urban_or_rural_area: string (nullable = true)\n",
      " |-- lsoa_of_accident_location: string (nullable = true)\n",
      " |-- vehicle_reference: integer (nullable = true)\n",
      " |-- casualty_reference: integer (nullable = true)\n",
      " |-- casualty_class: string (nullable = true)\n",
      " |-- sex_of_casualty: string (nullable = true)\n",
      " |-- age_of_casualty: integer (nullable = true)\n",
      " |-- age_band_of_casualty: string (nullable = true)\n",
      " |-- casualty_severity: string (nullable = true)\n",
      " |-- car_passenger: string (nullable = true)\n",
      " |-- casualty_home_area_type: integer (nullable = true)\n",
      " |-- vehicle_type: integer (nullable = true)\n",
      " |-- vehicle_manoeuvre: integer (nullable = true)\n",
      " |-- skidding_and_overturning: integer (nullable = true)\n",
      " |-- vehicle_leaving_carriageway: integer (nullable = true)\n",
      " |-- first_point_of_impact: string (nullable = true)\n",
      " |-- Journey_Purpose_of_Driver: string (nullable = true)\n",
      " |-- sex_of_driver: string (nullable = true)\n",
      " |-- age_of_driver: integer (nullable = true)\n",
      " |-- age_band_of_driver: string (nullable = true)\n",
      " |-- engine_capacity_cc: integer (nullable = true)\n",
      " |-- age_of_vehicle: integer (nullable = true)\n",
      " |-- generic_make_model: string (nullable = true)\n",
      "\n"
     ]
    }
   ],
   "source": [
    "joined_DF.printSchema()"
   ]
  },
  {
   "cell_type": "code",
   "execution_count": 25,
   "metadata": {},
   "outputs": [],
   "source": [
    "\n",
    "sqlContext.registerDataFrameAsTable(joined_DF, \"joined_DF_table\")"
   ]
  },
  {
   "cell_type": "code",
   "execution_count": 26,
   "metadata": {
    "pixiedust": {
     "displayParams": {
      "handlerId": "tableView"
     }
    }
   },
   "outputs": [],
   "source": [
    "import pixiedust\n",
    "display(joined_DF)"
   ]
  },
  {
   "cell_type": "code",
   "execution_count": 27,
   "metadata": {},
   "outputs": [
    {
     "name": "stdout",
     "output_type": "stream",
     "text": [
      "Total Records = 1512297\n",
      "Total columns = 39\n",
      "+++++++++++++++++++++++++++++++++++++++++\n",
      "+++++++++++++++++++++++++++++++++++++++++\n",
      "1.Column<b'accident_index'>\n",
      "  Missing Values = \n",
      "+-------------------------------------------------------+\n",
      "|count(CASE WHEN (accident_index IS NULL) THEN true END)|\n",
      "+-------------------------------------------------------+\n",
      "|                                                      0|\n",
      "+-------------------------------------------------------+\n",
      "\n",
      "2.Column<b'accident_year'>\n",
      "  Missing Values = \n",
      "+------------------------------------------------------+\n",
      "|count(CASE WHEN (accident_year IS NULL) THEN true END)|\n",
      "+------------------------------------------------------+\n",
      "|                                                     0|\n",
      "+------------------------------------------------------+\n",
      "\n",
      "3.Column<b'longitude'>\n",
      "  Missing Values = \n",
      "+--------------------------------------------------+\n",
      "|count(CASE WHEN (longitude IS NULL) THEN true END)|\n",
      "+--------------------------------------------------+\n",
      "|                                                 0|\n",
      "+--------------------------------------------------+\n",
      "\n",
      "4.Column<b'latitude'>\n",
      "  Missing Values = \n",
      "+-------------------------------------------------+\n",
      "|count(CASE WHEN (latitude IS NULL) THEN true END)|\n",
      "+-------------------------------------------------+\n",
      "|                                                0|\n",
      "+-------------------------------------------------+\n",
      "\n",
      "5.Column<b'accident_severity'>\n",
      "  Missing Values = \n",
      "+----------------------------------------------------------+\n",
      "|count(CASE WHEN (accident_severity IS NULL) THEN true END)|\n",
      "+----------------------------------------------------------+\n",
      "|                                                         0|\n",
      "+----------------------------------------------------------+\n",
      "\n",
      "6.Column<b'number_of_vehicles'>\n",
      "  Missing Values = \n",
      "+-----------------------------------------------------------+\n",
      "|count(CASE WHEN (number_of_vehicles IS NULL) THEN true END)|\n",
      "+-----------------------------------------------------------+\n",
      "|                                                          0|\n",
      "+-----------------------------------------------------------+\n",
      "\n",
      "7.Column<b'number_of_casualties'>\n",
      "  Missing Values = \n",
      "+-------------------------------------------------------------+\n",
      "|count(CASE WHEN (number_of_casualties IS NULL) THEN true END)|\n",
      "+-------------------------------------------------------------+\n",
      "|                                                            0|\n",
      "+-------------------------------------------------------------+\n",
      "\n",
      "8.Column<b'date'>\n",
      "  Missing Values = \n",
      "+---------------------------------------------+\n",
      "|count(CASE WHEN (date IS NULL) THEN true END)|\n",
      "+---------------------------------------------+\n",
      "|                                            0|\n",
      "+---------------------------------------------+\n",
      "\n",
      "9.Column<b'Day_of_Week'>\n",
      "  Missing Values = \n",
      "+----------------------------------------------------+\n",
      "|count(CASE WHEN (Day_of_Week IS NULL) THEN true END)|\n",
      "+----------------------------------------------------+\n",
      "|                                                   0|\n",
      "+----------------------------------------------------+\n",
      "\n",
      "10.Column<b'time'>\n",
      "  Missing Values = \n",
      "+---------------------------------------------+\n",
      "|count(CASE WHEN (time IS NULL) THEN true END)|\n",
      "+---------------------------------------------+\n",
      "|                                            0|\n",
      "+---------------------------------------------+\n",
      "\n",
      "11.Column<b'road_type'>\n",
      "  Missing Values = \n",
      "+--------------------------------------------------+\n",
      "|count(CASE WHEN (road_type IS NULL) THEN true END)|\n",
      "+--------------------------------------------------+\n",
      "|                                                 0|\n",
      "+--------------------------------------------------+\n",
      "\n",
      "12.Column<b'speed_limit'>\n",
      "  Missing Values = \n",
      "+----------------------------------------------------+\n",
      "|count(CASE WHEN (speed_limit IS NULL) THEN true END)|\n",
      "+----------------------------------------------------+\n",
      "|                                                   0|\n",
      "+----------------------------------------------------+\n",
      "\n",
      "13.Column<b'light_conditions'>\n",
      "  Missing Values = \n",
      "+---------------------------------------------------------+\n",
      "|count(CASE WHEN (light_conditions IS NULL) THEN true END)|\n",
      "+---------------------------------------------------------+\n",
      "|                                                        0|\n",
      "+---------------------------------------------------------+\n",
      "\n",
      "14.Column<b'weather_conditions'>\n",
      "  Missing Values = \n",
      "+-----------------------------------------------------------+\n",
      "|count(CASE WHEN (weather_conditions IS NULL) THEN true END)|\n",
      "+-----------------------------------------------------------+\n",
      "|                                                          0|\n",
      "+-----------------------------------------------------------+\n",
      "\n",
      "15.Column<b'road_surface_conditions'>\n",
      "  Missing Values = \n",
      "+----------------------------------------------------------------+\n",
      "|count(CASE WHEN (road_surface_conditions IS NULL) THEN true END)|\n",
      "+----------------------------------------------------------------+\n",
      "|                                                               0|\n",
      "+----------------------------------------------------------------+\n",
      "\n",
      "16.Column<b'special_conditions_at_site'>\n",
      "  Missing Values = \n",
      "+-------------------------------------------------------------------+\n",
      "|count(CASE WHEN (special_conditions_at_site IS NULL) THEN true END)|\n",
      "+-------------------------------------------------------------------+\n",
      "|                                                                  0|\n",
      "+-------------------------------------------------------------------+\n",
      "\n",
      "17.Column<b'urban_or_rural_area'>\n",
      "  Missing Values = \n",
      "+------------------------------------------------------------+\n",
      "|count(CASE WHEN (urban_or_rural_area IS NULL) THEN true END)|\n",
      "+------------------------------------------------------------+\n",
      "|                                                           0|\n",
      "+------------------------------------------------------------+\n",
      "\n",
      "18.Column<b'lsoa_of_accident_location'>\n",
      "  Missing Values = \n",
      "+------------------------------------------------------------------+\n",
      "|count(CASE WHEN (lsoa_of_accident_location IS NULL) THEN true END)|\n",
      "+------------------------------------------------------------------+\n",
      "|                                                                 0|\n",
      "+------------------------------------------------------------------+\n",
      "\n",
      "19.Column<b'vehicle_reference'>\n",
      "  Missing Values = \n",
      "+----------------------------------------------------------+\n",
      "|count(CASE WHEN (vehicle_reference IS NULL) THEN true END)|\n",
      "+----------------------------------------------------------+\n",
      "|                                                         0|\n",
      "+----------------------------------------------------------+\n",
      "\n",
      "20.Column<b'casualty_reference'>\n",
      "  Missing Values = \n",
      "+-----------------------------------------------------------+\n",
      "|count(CASE WHEN (casualty_reference IS NULL) THEN true END)|\n",
      "+-----------------------------------------------------------+\n",
      "|                                                          0|\n",
      "+-----------------------------------------------------------+\n",
      "\n",
      "21.Column<b'casualty_class'>\n",
      "  Missing Values = \n",
      "+-------------------------------------------------------+\n",
      "|count(CASE WHEN (casualty_class IS NULL) THEN true END)|\n",
      "+-------------------------------------------------------+\n",
      "|                                                      0|\n",
      "+-------------------------------------------------------+\n",
      "\n",
      "22.Column<b'sex_of_casualty'>\n",
      "  Missing Values = \n",
      "+--------------------------------------------------------+\n",
      "|count(CASE WHEN (sex_of_casualty IS NULL) THEN true END)|\n",
      "+--------------------------------------------------------+\n",
      "|                                                       0|\n",
      "+--------------------------------------------------------+\n",
      "\n",
      "23.Column<b'age_of_casualty'>\n",
      "  Missing Values = \n",
      "+--------------------------------------------------------+\n",
      "|count(CASE WHEN (age_of_casualty IS NULL) THEN true END)|\n",
      "+--------------------------------------------------------+\n",
      "|                                                       0|\n",
      "+--------------------------------------------------------+\n",
      "\n",
      "24.Column<b'age_band_of_casualty'>\n",
      "  Missing Values = \n",
      "+-------------------------------------------------------------+\n",
      "|count(CASE WHEN (age_band_of_casualty IS NULL) THEN true END)|\n",
      "+-------------------------------------------------------------+\n",
      "|                                                            0|\n",
      "+-------------------------------------------------------------+\n",
      "\n",
      "25.Column<b'casualty_severity'>\n",
      "  Missing Values = \n"
     ]
    },
    {
     "name": "stdout",
     "output_type": "stream",
     "text": [
      "+----------------------------------------------------------+\n",
      "|count(CASE WHEN (casualty_severity IS NULL) THEN true END)|\n",
      "+----------------------------------------------------------+\n",
      "|                                                         0|\n",
      "+----------------------------------------------------------+\n",
      "\n",
      "26.Column<b'car_passenger'>\n",
      "  Missing Values = \n",
      "+------------------------------------------------------+\n",
      "|count(CASE WHEN (car_passenger IS NULL) THEN true END)|\n",
      "+------------------------------------------------------+\n",
      "|                                                     0|\n",
      "+------------------------------------------------------+\n",
      "\n",
      "27.Column<b'casualty_home_area_type'>\n",
      "  Missing Values = \n",
      "+----------------------------------------------------------------+\n",
      "|count(CASE WHEN (casualty_home_area_type IS NULL) THEN true END)|\n",
      "+----------------------------------------------------------------+\n",
      "|                                                               0|\n",
      "+----------------------------------------------------------------+\n",
      "\n",
      "28.Column<b'vehicle_type'>\n",
      "  Missing Values = \n",
      "+-----------------------------------------------------+\n",
      "|count(CASE WHEN (vehicle_type IS NULL) THEN true END)|\n",
      "+-----------------------------------------------------+\n",
      "|                                                    0|\n",
      "+-----------------------------------------------------+\n",
      "\n",
      "29.Column<b'vehicle_manoeuvre'>\n",
      "  Missing Values = \n",
      "+----------------------------------------------------------+\n",
      "|count(CASE WHEN (vehicle_manoeuvre IS NULL) THEN true END)|\n",
      "+----------------------------------------------------------+\n",
      "|                                                         0|\n",
      "+----------------------------------------------------------+\n",
      "\n",
      "30.Column<b'skidding_and_overturning'>\n",
      "  Missing Values = \n",
      "+-----------------------------------------------------------------+\n",
      "|count(CASE WHEN (skidding_and_overturning IS NULL) THEN true END)|\n",
      "+-----------------------------------------------------------------+\n",
      "|                                                                0|\n",
      "+-----------------------------------------------------------------+\n",
      "\n",
      "31.Column<b'vehicle_leaving_carriageway'>\n",
      "  Missing Values = \n",
      "+--------------------------------------------------------------------+\n",
      "|count(CASE WHEN (vehicle_leaving_carriageway IS NULL) THEN true END)|\n",
      "+--------------------------------------------------------------------+\n",
      "|                                                                   0|\n",
      "+--------------------------------------------------------------------+\n",
      "\n",
      "32.Column<b'first_point_of_impact'>\n",
      "  Missing Values = \n",
      "+--------------------------------------------------------------+\n",
      "|count(CASE WHEN (first_point_of_impact IS NULL) THEN true END)|\n",
      "+--------------------------------------------------------------+\n",
      "|                                                             0|\n",
      "+--------------------------------------------------------------+\n",
      "\n",
      "33.Column<b'Journey_Purpose_of_Driver'>\n",
      "  Missing Values = \n",
      "+------------------------------------------------------------------+\n",
      "|count(CASE WHEN (Journey_Purpose_of_Driver IS NULL) THEN true END)|\n",
      "+------------------------------------------------------------------+\n",
      "|                                                                 0|\n",
      "+------------------------------------------------------------------+\n",
      "\n",
      "34.Column<b'sex_of_driver'>\n",
      "  Missing Values = \n",
      "+------------------------------------------------------+\n",
      "|count(CASE WHEN (sex_of_driver IS NULL) THEN true END)|\n",
      "+------------------------------------------------------+\n",
      "|                                                     0|\n",
      "+------------------------------------------------------+\n",
      "\n",
      "35.Column<b'age_of_driver'>\n",
      "  Missing Values = \n",
      "+------------------------------------------------------+\n",
      "|count(CASE WHEN (age_of_driver IS NULL) THEN true END)|\n",
      "+------------------------------------------------------+\n",
      "|                                                     0|\n",
      "+------------------------------------------------------+\n",
      "\n",
      "36.Column<b'age_band_of_driver'>\n",
      "  Missing Values = \n",
      "+-----------------------------------------------------------+\n",
      "|count(CASE WHEN (age_band_of_driver IS NULL) THEN true END)|\n",
      "+-----------------------------------------------------------+\n",
      "|                                                          0|\n",
      "+-----------------------------------------------------------+\n",
      "\n",
      "37.Column<b'engine_capacity_cc'>\n",
      "  Missing Values = \n",
      "+-----------------------------------------------------------+\n",
      "|count(CASE WHEN (engine_capacity_cc IS NULL) THEN true END)|\n",
      "+-----------------------------------------------------------+\n",
      "|                                                          0|\n",
      "+-----------------------------------------------------------+\n",
      "\n",
      "38.Column<b'age_of_vehicle'>\n",
      "  Missing Values = \n",
      "+-------------------------------------------------------+\n",
      "|count(CASE WHEN (age_of_vehicle IS NULL) THEN true END)|\n",
      "+-------------------------------------------------------+\n",
      "|                                                      0|\n",
      "+-------------------------------------------------------+\n",
      "\n",
      "39.Column<b'generic_make_model'>\n",
      "  Missing Values = \n",
      "+-----------------------------------------------------------+\n",
      "|count(CASE WHEN (generic_make_model IS NULL) THEN true END)|\n",
      "+-----------------------------------------------------------+\n",
      "|                                                          0|\n",
      "+-----------------------------------------------------------+\n",
      "\n"
     ]
    }
   ],
   "source": [
    "\n",
    "#initialize Counter to 0\n",
    "i = 0 \n",
    "\n",
    "#Total records in the joined_DF dataframe\n",
    "\n",
    "total = joined_DF.count()\n",
    "\n",
    "print(\"Total Records = \" + str(total))\n",
    "\n",
    "#Prints the total number of column\n",
    "\n",
    "print(\"Total columns = \" + str(len(joined_DF.columns)))\n",
    "print(\"+++++++++++++++++++++++++++++++++++++++++\")\n",
    "print(\"+++++++++++++++++++++++++++++++++++++++++\")\n",
    "\n",
    "#while Loop used here to display the count of  each column's missing values \n",
    "\n",
    "while i < len(joined_DF.columns):                             \n",
    "#Loop which checks every column\n",
    "    print(str(i+1) + \".\" + str(joined_DF[i]))\n",
    "    print(\"  Missing Values = \") \n",
    "   \n",
    "    missingvalue1 = joined_DF.select([count(when(joined_DF[i].isNull(),True))]).show() \n",
    "    i = i+1 #Counter is incremented by 1"
   ]
  },
  {
   "cell_type": "markdown",
   "metadata": {},
   "source": [
    "# Visualisations"
   ]
  },
  {
   "cell_type": "code",
   "execution_count": 28,
   "metadata": {
    "scrolled": true
   },
   "outputs": [
    {
     "data": {
      "image/png": "[encoded data removed]",
      "text/plain": [
       "<Figure size 576x216 with 1 Axes>"
      ]
     },
     "metadata": {
      "needs_background": "light"
     },
     "output_type": "display_data"
    }
   ],
   "source": [
    "#Speed Limit vs Accident count group by Accident Severity\n",
    "\n",
    "\n",
    "Accident_type = joined_DF.groupby(\"Accident_Severity\",\"Speed_limit\").count().sort(\"count\")\n",
    "\n",
    "\n",
    "\n",
    "import matplotlib.pyplot as plt\n",
    "import pandas as pd\n",
    "\n",
    "Panda_Accident_Type = Accident_type.toPandas()\n",
    "\n",
    "%matplotlib inline\n",
    "\n",
    "\n",
    "\n",
    "plot_Outcome=Panda_Accident_Type.pivot(index='Speed_limit', columns='Accident_Severity', values='count') \\\n",
    "                         .plot(kind='bar', figsize=(8,3))\n",
    "plot_Outcome.set_title(\"Speed Limit vs Accident count group by Accident Severity\",color=\"b\")\n",
    "plot_Outcome.set_ylim(0,700000)\n",
    "plot_Outcome.set_xlabel(\"Speed Limit\",color=\"b\")\n",
    "plot_Outcome.set_ylabel(\"Accident count\",color=\"b\")\n",
    "plt.legend(loc='center left', bbox_to_anchor=(1, 0.5));"
   ]
  },
  {
   "cell_type": "code",
   "execution_count": null,
   "metadata": {
    "pixiedust": {
     "displayParams": {
      "charttype": "grouped",
      "clusterby": "Speed_limit",
      "handlerId": "barChart",
      "keyFields": "casualty_severity",
      "valueFields": "count"
     }
    }
   },
   "outputs": [],
   "source": [
    "#visualization for Speed Limit vs Casualty Severity\n",
    "\n",
    "Accident_type = joined_DF.groupby(\"Speed_limit\",\"casualty_severity\").count().sort(\"count\")\n",
    "display(Accident_type)"
   ]
  },
  {
   "cell_type": "code",
   "execution_count": 30,
   "metadata": {},
   "outputs": [
    {
     "data": {
      "image/png": "[encoded data removed]",
      "text/plain": [
       "<Figure size 720x360 with 1 Axes>"
      ]
     },
     "metadata": {
      "needs_background": "light"
     },
     "output_type": "display_data"
    }
   ],
   "source": [
    "#visualiation for weather conditions vs Accident Severity\n",
    "\n",
    "import numpy as np\n",
    "\n",
    "Accident_type = joined_DF.groupby(\"weather_conditions\",\"Accident_Severity\") \\\n",
    "                                                        .count().sort(\"count\")\n",
    "Panda_Accident_Type = Accident_type.toPandas()\n",
    "\n",
    "%matplotlib inline\n",
    "\n",
    "\n",
    "plot_Outcome=Panda_Accident_Type.pivot(index='weather_conditions', columns='Accident_Severity', values='count') \\\n",
    "                         .plot(kind='bar', figsize=(10,5))\n",
    "plot_Outcome.set_title(\"Weather_conditions vs Accident count group by accident severity\",color=\"b\")\n",
    "plot_Outcome.set_ylim(0,800000)\n",
    "plot_Outcome.set_xlabel(\"Weather conditions\",color=\"b\")\n",
    "plot_Outcome.set_ylabel(\"Accident count\",color=\"b\")\n",
    "plt.legend(loc='center left', bbox_to_anchor=(1, 0.5));\n",
    "\n",
    "\n"
   ]
  },
  {
   "cell_type": "code",
   "execution_count": null,
   "metadata": {
    "pixiedust": {
     "displayParams": {
      "clusterby": "Accident_Severity",
      "handlerId": "barChart",
      "keyFields": "light_conditions",
      "orientation": "horizontal",
      "valueFields": "count"
     }
    },
    "scrolled": false
   },
   "outputs": [
    {
     "data": {
      "text/html": [
       "<style type=\"text/css\">.pd_warning{display:none;}</style><div class=\"pd_warning\"><em>Hey, there's something awesome here! To see it, open this notebook outside GitHub, in a viewer like Jupyter</em></div>\n",
       "        <div class=\"pd_save is-viewer-good\" style=\"padding-right:10px;text-align: center;line-height:initial !important;font-size: xx-large;font-weight: 500;color: coral;\">\n",
       "            \n",
       "        </div>\n",
       "    <div id=\"chartFigure2f99d559\" class=\"pd_save is-viewer-good\" style=\"overflow-x:auto\">\n",
       "            \n",
       "                    \n",
       "                            <center><img style=\"max-width:initial !important\" src=\"data:image/png;base64,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\" class=\"pd_save\"></center>\n",
       "                        \n",
       "                    \n",
       "                \n",
       "        </div>"
      ],
      "text/plain": [
       "<IPython.core.display.HTML object>"
      ]
     },
     "metadata": {},
     "output_type": "display_data"
    }
   ],
   "source": [
    "# light condition vs \n",
    "\n",
    "Accident_type = joined_DF.groupby(\"light_conditions\",\"accident_year\",\"Accident_Severity\").count().sort(\"count\")\n",
    "Accident_type.show()\n",
    "\n",
    "display(Accident_type)\n",
    "\n",
    "\n",
    "\n"
   ]
  },
  {
   "cell_type": "code",
   "execution_count": 32,
   "metadata": {
    "pixiedust": {
     "displayParams": {
      "handlerId": "pieChart",
      "keyFields": "accident_year",
      "mpld3": "false",
      "title": "Accident percentage over 5 years",
      "valueFields": "count",
      "ylabel": "false"
     }
    },
    "scrolled": true
   },
   "outputs": [
    {
     "data": {
      "text/html": [
       "<style type=\"text/css\">.pd_warning{display:none;}</style><div class=\"pd_warning\"><em>Hey, there's something awesome here! To see it, open this notebook outside GitHub, in a viewer like Jupyter</em></div>\n",
       "        <div class=\"pd_save is-viewer-good\" style=\"padding-right:10px;text-align: center;line-height:initial !important;font-size: xx-large;font-weight: 500;color: coral;\">\n",
       "            Accident percentage over 5 years\n",
       "        </div>\n",
       "    <div id=\"chartFiguredbf32d43\" class=\"pd_save is-viewer-good\" style=\"overflow-x:auto\">\n",
       "            \n",
       "                    \n",
       "                            <center><img style=\"max-width:initial !important\" src=\"data:image/png;base64,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\" class=\"pd_save\"></center>\n",
       "                        \n",
       "                    \n",
       "                \n",
       "        </div>"
      ],
      "text/plain": [
       "<IPython.core.display.HTML object>"
      ]
     },
     "metadata": {},
     "output_type": "display_data"
    }
   ],
   "source": [
    "# Total percentage of accidents per year out of total accidents in 5 years\n",
    "\n",
    "accident_count_year=joined_DF.groupby('accident_year').count().orderBy(desc(\"Count\"))\n",
    "display(accident_count_year)"
   ]
  },
  {
   "cell_type": "code",
   "execution_count": 34,
   "metadata": {},
   "outputs": [
    {
     "name": "stdout",
     "output_type": "stream",
     "text": [
      "+---------+---------+-----+\n",
      "| latitude|longitude|Count|\n",
      "+---------+---------+-----+\n",
      "|51.448217| -0.10255|    2|\n",
      "|54.150072|-3.178191|    2|\n",
      "|51.100696| 0.131352|    2|\n",
      "|50.254871|-5.056409|    2|\n",
      "|51.550996|-0.260976|    2|\n",
      "|53.056766|-0.784595|    2|\n",
      "|51.317336| 0.294422|    1|\n",
      "|52.576575|-1.453515|    4|\n",
      "|51.437867| 0.225708|    4|\n",
      "|53.426885|-2.132423|    2|\n",
      "|51.545336| 0.103263|    4|\n",
      "|51.589227|-0.108373|    2|\n",
      "|51.409722|-2.317307|    2|\n",
      "|50.705848|-4.062882|    2|\n",
      "| 52.04797| 1.155561|    3|\n",
      "| 52.48749|-1.947052|    3|\n",
      "|51.635799| -0.47133|    4|\n",
      "|50.742984|-2.154113|    1|\n",
      "|51.610575|-0.416227|   12|\n",
      "|53.809402|-1.790067|    1|\n",
      "+---------+---------+-----+\n",
      "only showing top 20 rows\n",
      "\n"
     ]
    }
   ],
   "source": [
    "#Accident density\n",
    "#\n",
    "accident_count_geo=sqlContext.sql(\"select latitude,longitude,count(*) as \\\n",
    "                                    Count from joined_DF_table group by latitude,longitude\")\n",
    "accident_count_geo.show()"
   ]
  },
  {
   "cell_type": "code",
   "execution_count": 38,
   "metadata": {
    "pixiedust": {
     "displayParams": {
      "colorrampname": "Light to Dark Red",
      "handlerId": "mapView",
      "keyFields": "latitude,longitude",
      "mapboxtoken": "pk.eyJ1IjoibWFwYm94IiwiYSI6ImNpejY4M29iazA2Z2gycXA4N2pmbDZmangifQ.-g_vE53SD2WrJ6tFX7QHmA",
      "rowCount": "500000",
      "valueFields": "Count"
     }
    }
   },
   "outputs": [
    {
     "data": {
      "text/html": [
       "<style type=\"text/css\">.pd_warning{display:none;}</style><div class=\"pd_warning\"><em>Hey, there's something awesome here! To see it, open this notebook outside GitHub, in a viewer like Jupyter</em></div>"
      ],
      "text/plain": [
       "<IPython.core.display.HTML object>"
      ]
     },
     "metadata": {
      "pixieapp_metadata": null
     },
     "output_type": "display_data"
    }
   ],
   "source": [
    "display(accident_count_geo)"
   ]
  },
  {
   "cell_type": "code",
   "execution_count": null,
   "metadata": {},
   "outputs": [],
   "source": [
    "#visualiation for Car passengers vs Accident count group by accident severity\n",
    "\n",
    "\n",
    "\n",
    "Accident_type = joined_DF.groupby(\"car_passenger\",\"Accident_Severity\") \\\n",
    "                                                        .count().sort(\"count\")\n",
    "Accident_type.show()\n",
    "\n",
    "Panda_Accident_Type = Accident_type.toPandas()\n",
    "\n",
    "%matplotlib inline\n",
    "\n",
    "\n",
    "plot_Outcome=Panda_Accident_Type.pivot(index='car_passenger', columns='Accident_Severity', values='count') \\\n",
    "                         .plot(kind='bar', figsize=(10,5))\n",
    "plot_Outcome.set_title(\"Number of car passengers vs Accident_Severity\",color=\"b\")\n",
    "plot_Outcome.set_ylim(0,800000)\n",
    "plot_Outcome.set_xlabel(\"Car_passenger\",color=\"b\")\n",
    "plot_Outcome.set_ylabel(\"Accident count\",color=\"b\")\n",
    "plt.legend(loc='center left', bbox_to_anchor=(1, 0.5));\n",
    "\n",
    "\n"
   ]
  },
  {
   "cell_type": "code",
   "execution_count": 35,
   "metadata": {
    "code_folding": [],
    "pixiedust": {
     "displayParams": {
      "chartsize": "80",
      "charttype": "grouped",
      "clusterby": "Accident_Severity",
      "handlerId": "barChart",
      "keyFields": "sex_of_driver",
      "orientation": "vertical",
      "rendererId": "matplotlib",
      "sortby": "Values ASC",
      "title": "Gender vs Accident count group by accident severity",
      "valueFields": "count"
     }
    }
   },
   "outputs": [
    {
     "data": {
      "text/html": [
       "<style type=\"text/css\">.pd_warning{display:none;}</style><div class=\"pd_warning\"><em>Hey, there's something awesome here! To see it, open this notebook outside GitHub, in a viewer like Jupyter</em></div>\n",
       "        <div class=\"pd_save is-viewer-good\" style=\"padding-right:10px;text-align: center;line-height:initial !important;font-size: xx-large;font-weight: 500;color: coral;\">\n",
       "            Gender vs Accident count group by accident severity\n",
       "        </div>\n",
       "    <div id=\"chartFigure227dc457\" class=\"pd_save is-viewer-good\" style=\"overflow-x:auto\">\n",
       "            \n",
       "                    \n",
       "                            <center><img style=\"max-width:initial !important\" src=\"data:image/png;base64,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\" class=\"pd_save\"></center>\n",
       "                        \n",
       "                    \n",
       "                \n",
       "        </div>"
      ],
      "text/plain": [
       "<IPython.core.display.HTML object>"
      ]
     },
     "metadata": {},
     "output_type": "display_data"
    }
   ],
   "source": [
    "#visualiation for sex_of_driver vs Accident Severity\n",
    "\n",
    "\n",
    "\n",
    "Accident_sex_of_driver = joined_DF.groupby(\"sex_of_driver\",\"Accident_Severity\") \\\n",
    "                                                        .count().sort(\"count\")\n",
    "display(Accident_sex_of_driver)\n",
    "\n",
    "\n"
   ]
  },
  {
   "cell_type": "code",
   "execution_count": null,
   "metadata": {
    "pixiedust": {
     "displayParams": {
      "chartsize": "65",
      "handlerId": "pieChart",
      "keyFields": "casualty_home_area_type",
      "tableFields": "Accident_Severity,casualty_home_area_type,count",
      "valueFields": "count"
     }
    },
    "scrolled": true
   },
   "outputs": [],
   "source": [
    "#visualiation for casualty_home_area_type vs Accident Severity\n",
    "\n",
    "import numpy as np\n",
    "\n",
    "Accident_casualty_home_area_type = joined_DF.groupby(\"casualty_home_area_type\",\"Accident_Severity\") \\\n",
    "                                                        .count().sort(\"count\")\n",
    "display(Accident_casualty_home_area_type)"
   ]
  },
  {
   "cell_type": "code",
   "execution_count": null,
   "metadata": {
    "pixiedust": {
     "displayParams": {
      "chartsize": "80",
      "clusterby": "Accident_Severity",
      "handlerId": "barChart",
      "keyFields": "road_type",
      "legend": "true",
      "mpld3": "false",
      "orientation": "horizontal",
      "rendererId": "matplotlib",
      "title": "Road type vs Accident count group by accident severity",
      "valueFields": "count"
     }
    }
   },
   "outputs": [],
   "source": [
    "# Road type vs accident severity\n",
    "\n",
    "Accident_type = joined_DF.groupby(\"road_type\",\"Accident_Severity\") \\\n",
    "                                                        .count().sort(\"count\")\n",
    "display(Accident_type)"
   ]
  },
  {
   "cell_type": "code",
   "execution_count": 36,
   "metadata": {
    "pixiedust": {
     "displayParams": {
      "chartsize": "100",
      "charttype": "grouped",
      "clusterby": "Accident_Severity",
      "handlerId": "barChart",
      "keyFields": "age_band_of_driver",
      "legend": "true",
      "orientation": "horizontal",
      "rendererId": "bokeh",
      "sortby": "Keys ASC",
      "title": "Age band of the driver vs accident count group by accident severity",
      "valueFields": "count"
     }
    }
   },
   "outputs": [
    {
     "data": {
      "text/html": [
       "<style type=\"text/css\">.pd_warning{display:none;}</style><div class=\"pd_warning\"><em>Hey, there's something awesome here! To see it, open this notebook outside GitHub, in a viewer like Jupyter</em></div><script class=\"pd_save is-viewer-good\">\n",
       "                    function setChartScript() {\n",
       "                        if (!window.Bokeh) {\n",
       "                            setTimeout(setChartScript, 250)\n",
       "                        } else {\n",
       "                            var d = document.getElementById(\"pd-bkchartdiv-23fcf3c6\")\n",
       "                            if (d){\n",
       "                                var el = document.createElement('div')\n",
       "                                el.innerHTML = `\n",
       "<script type=\"text/javascript\">\n",
       "  (function() {\n",
       "    var fn = function() {\n",
       "      Bokeh.safely(function() {\n",
       "        (function(root) {\n",
       "          function embed_document(root) {\n",
       "            \n",
       "          var docs_json = '{\"dd05c287-4390-420c-8bfe-9cf7fe98ad53\":{\"roots\":{\"references\":[{\"attributes\":{\"grid_line_color\":null,\"ticker\":{\"id\":\"1116\",\"type\":\"CategoricalTicker\"}},\"id\":\"1118\",\"type\":\"Grid\"},{\"attributes\":{\"source\":{\"id\":\"1104\",\"type\":\"ColumnDataSource\"}},\"id\":\"1142\",\"type\":\"CDSView\"},{\"attributes\":{\"callback\":null,\"factors\":[[\"-0-21-25\",\"Fatal\"],[\"-0-21-25\",\"Serious\"],[\"-0-21-25\",\"Slight\"],[\"0-21-25\",\"Fatal\"],[\"0-21-25\",\"Serious\"],[\"0-21-25\",\"Slight\"],[\"0-21-250\",\"Fatal\"],[\"0-21-250\",\"Serious\"],[\"0-21-250\",\"Slight\"],[\"0-21-250-21-25\",\"Fatal\"],[\"0-21-250-21-25\",\"Serious\"],[\"0-21-250-21-25\",\"Slight\"],[\"126-35-20\",\"Fatal\"],[\"126-35-20\",\"Serious\"],[\"126-35-20\",\"Slight\"],[\"21-25\",\"Fatal\"],[\"21-25\",\"Serious\"],[\"21-25\",\"Slight\"],[\"26-35\",\"Fatal\"],[\"26-35\",\"Serious\"],[\"26-35\",\"Slight\"],[\"26-35-66-75\",\"Fatal\"],[\"26-35-66-75\",\"Serious\"],[\"26-35-66-75\",\"Slight\"],[\"36-45\",\"Fatal\"],[\"36-45\",\"Serious\"],[\"36-45\",\"Slight\"],[\"46-55\",\"Fatal\"],[\"46-55\",\"Serious\"],[\"46-55\",\"Slight\"],[\"56-65\",\"Fatal\"],[\"56-65\",\"Serious\"],[\"56-65\",\"Slight\"],[\"Over 75-121-25\",\"Fatal\"],[\"Over 75-121-25\",\"Serious\"],[\"Over 75-121-25\",\"Slight\"]],\"range_padding\":0.1},\"id\":\"1105\",\"type\":\"FactorRange\"},{\"attributes\":{\"items\":[{\"id\":\"1150\",\"type\":\"LegendItem\"}],\"location\":\"top_left\"},\"id\":\"1149\",\"type\":\"Legend\"},{\"attributes\":{\"overlay\":{\"id\":\"1148\",\"type\":\"BoxAnnotation\"}},\"id\":\"1126\",\"type\":\"BoxZoomTool\"},{\"attributes\":{},\"id\":\"1120\",\"type\":\"BasicTicker\"},{\"attributes\":{\"end\":2,\"factors\":[\"Fatal\",\"Serious\",\"Slight\"],\"palette\":[\"#1f77b4\",\"#ff7f0e\",\"#2ca02c\"],\"start\":1},\"id\":\"1137\",\"type\":\"CategoricalColorMapper\"},{\"attributes\":{},\"id\":\"1144\",\"type\":\"BasicTickFormatter\"},{\"attributes\":{},\"id\":\"1124\",\"type\":\"PanTool\"},{\"attributes\":{},\"id\":\"1129\",\"type\":\"HelpTool\"},{\"attributes\":{\"children\":[{\"id\":\"1164\",\"type\":\"ToolbarBox\"},{\"id\":\"1162\",\"type\":\"GridBox\"}]},\"id\":\"1165\",\"type\":\"Column\"},{\"attributes\":{},\"id\":\"1159\",\"type\":\"UnionRenderers\"},{\"attributes\":{\"bottom_units\":\"screen\",\"fill_alpha\":{\"value\":0.5},\"fill_color\":{\"value\":\"lightgrey\"},\"left_units\":\"screen\",\"level\":\"overlay\",\"line_alpha\":{\"value\":1.0},\"line_color\":{\"value\":\"black\"},\"line_dash\":[4,4],\"line_width\":{\"value\":2},\"render_mode\":\"css\",\"right_units\":\"screen\",\"top_units\":\"screen\"},\"id\":\"1148\",\"type\":\"BoxAnnotation\"},{\"attributes\":{\"active_drag\":\"auto\",\"active_inspect\":\"auto\",\"active_multi\":null,\"active_scroll\":\"auto\",\"active_tap\":\"auto\",\"tools\":[{\"id\":\"1124\",\"type\":\"PanTool\"},{\"id\":\"1125\",\"type\":\"WheelZoomTool\"},{\"id\":\"1126\",\"type\":\"BoxZoomTool\"},{\"id\":\"1127\",\"type\":\"SaveTool\"},{\"id\":\"1128\",\"type\":\"ResetTool\"},{\"id\":\"1129\",\"type\":\"HelpTool\"},{\"id\":\"1151\",\"type\":\"HoverTool\"}]},\"id\":\"1130\",\"type\":\"Toolbar\"},{\"attributes\":{},\"id\":\"1158\",\"type\":\"Selection\"},{\"attributes\":{\"axis_label\":\"age_band_of_driver\",\"formatter\":{\"id\":\"1146\",\"type\":\"CategoricalTickFormatter\"},\"major_label_orientation\":1,\"major_label_text_color\":{\"value\":null},\"major_label_text_font_size\":{\"value\":\"0px\"},\"major_tick_line_color\":{\"value\":null},\"minor_tick_line_color\":{\"value\":null},\"ticker\":{\"id\":\"1116\",\"type\":\"CategoricalTicker\"}},\"id\":\"1115\",\"type\":\"CategoricalAxis\"},{\"attributes\":{},\"id\":\"1128\",\"type\":\"ResetTool\"},{\"attributes\":{\"dimension\":1,\"ticker\":{\"id\":\"1120\",\"type\":\"BasicTicker\"}},\"id\":\"1123\",\"type\":\"Grid\"},{\"attributes\":{\"children\":[[{\"id\":\"1106\",\"subtype\":\"Figure\",\"type\":\"Plot\"},0,0]]},\"id\":\"1162\",\"type\":\"GridBox\"},{\"attributes\":{\"toolbar\":{\"id\":\"1163\",\"type\":\"ProxyToolbar\"},\"toolbar_location\":\"above\"},\"id\":\"1164\",\"type\":\"ToolbarBox\"},{\"attributes\":{},\"id\":\"1116\",\"type\":\"CategoricalTicker\"},{\"attributes\":{\"callback\":null,\"data\":{\"counts\":[1193,21320,144341,4,44,180,1961,16394,52247,1669,10769,31188,1680,21238,80779,2824,29397,126323,5408,56684,265467,5,354,1621,4304,45053,208117,4558,44397,183436,3520,29884,106974,58,1857,7049],\"l\":[\"Fatal\",\"Serious\",\"Slight\",\"Fatal\",\"Serious\",\"Slight\",\"Fatal\",\"Serious\",\"Slight\",\"Fatal\",\"Serious\",\"Slight\",\"Fatal\",\"Serious\",\"Slight\",\"Fatal\",\"Serious\",\"Slight\",\"Fatal\",\"Serious\",\"Slight\",\"Fatal\",\"Serious\",\"Slight\",\"Fatal\",\"Serious\",\"Slight\",\"Fatal\",\"Serious\",\"Slight\",\"Fatal\",\"Serious\",\"Slight\",\"Fatal\",\"Serious\",\"Slight\"],\"x\":[[\"-0-21-25\",\"Fatal\"],[\"-0-21-25\",\"Serious\"],[\"-0-21-25\",\"Slight\"],[\"0-21-25\",\"Fatal\"],[\"0-21-25\",\"Serious\"],[\"0-21-25\",\"Slight\"],[\"0-21-250\",\"Fatal\"],[\"0-21-250\",\"Serious\"],[\"0-21-250\",\"Slight\"],[\"0-21-250-21-25\",\"Fatal\"],[\"0-21-250-21-25\",\"Serious\"],[\"0-21-250-21-25\",\"Slight\"],[\"126-35-20\",\"Fatal\"],[\"126-35-20\",\"Serious\"],[\"126-35-20\",\"Slight\"],[\"21-25\",\"Fatal\"],[\"21-25\",\"Serious\"],[\"21-25\",\"Slight\"],[\"26-35\",\"Fatal\"],[\"26-35\",\"Serious\"],[\"26-35\",\"Slight\"],[\"26-35-66-75\",\"Fatal\"],[\"26-35-66-75\",\"Serious\"],[\"26-35-66-75\",\"Slight\"],[\"36-45\",\"Fatal\"],[\"36-45\",\"Serious\"],[\"36-45\",\"Slight\"],[\"46-55\",\"Fatal\"],[\"46-55\",\"Serious\"],[\"46-55\",\"Slight\"],[\"56-65\",\"Fatal\"],[\"56-65\",\"Serious\"],[\"56-65\",\"Slight\"],[\"Over 75-121-25\",\"Fatal\"],[\"Over 75-121-25\",\"Serious\"],[\"Over 75-121-25\",\"Slight\"]]},\"selected\":{\"id\":\"1158\",\"type\":\"Selection\"},\"selection_policy\":{\"id\":\"1159\",\"type\":\"UnionRenderers\"}},\"id\":\"1104\",\"type\":\"ColumnDataSource\"},{\"attributes\":{\"fill_alpha\":{\"value\":0.1},\"fill_color\":{\"value\":\"#1f77b4\"},\"line_alpha\":{\"value\":0.1},\"line_color\":{\"value\":\"#1f77b4\"},\"top\":{\"field\":\"counts\"},\"width\":{\"value\":0.925},\"x\":{\"field\":\"x\"}},\"id\":\"1140\",\"type\":\"VBar\"},{\"attributes\":{\"data_source\":{\"id\":\"1104\",\"type\":\"ColumnDataSource\"},\"glyph\":{\"id\":\"1139\",\"type\":\"VBar\"},\"hover_glyph\":null,\"muted_glyph\":null,\"nonselection_glyph\":{\"id\":\"1140\",\"type\":\"VBar\"},\"selection_glyph\":null,\"view\":{\"id\":\"1142\",\"type\":\"CDSView\"}},\"id\":\"1141\",\"type\":\"GlyphRenderer\"},{\"attributes\":{\"label\":{\"field\":\"l\"},\"renderers\":[{\"id\":\"1141\",\"type\":\"GlyphRenderer\"}]},\"id\":\"1150\",\"type\":\"LegendItem\"},{\"attributes\":{\"callback\":null,\"start\":0},\"id\":\"1109\",\"type\":\"DataRange1d\"},{\"attributes\":{},\"id\":\"1125\",\"type\":\"WheelZoomTool\"},{\"attributes\":{},\"id\":\"1146\",\"type\":\"CategoricalTickFormatter\"},{\"attributes\":{},\"id\":\"1127\",\"type\":\"SaveTool\"},{\"attributes\":{\"fill_color\":{\"field\":\"x\",\"transform\":{\"id\":\"1137\",\"type\":\"CategoricalColorMapper\"}},\"line_color\":{\"field\":\"x\",\"transform\":{\"id\":\"1137\",\"type\":\"CategoricalColorMapper\"}},\"top\":{\"field\":\"counts\"},\"width\":{\"value\":0.925},\"x\":{\"field\":\"x\"}},\"id\":\"1139\",\"type\":\"VBar\"},{\"attributes\":{\"callback\":null,\"tooltips\":[[\"age_band_of_driver\",\"@x\"],[\"count\",\"@counts{0.00}\"]]},\"id\":\"1151\",\"type\":\"HoverTool\"},{\"attributes\":{},\"id\":\"1113\",\"type\":\"LinearScale\"},{\"attributes\":{\"below\":[{\"id\":\"1115\",\"type\":\"CategoricalAxis\"}],\"center\":[{\"id\":\"1118\",\"type\":\"Grid\"},{\"id\":\"1123\",\"type\":\"Grid\"},{\"id\":\"1149\",\"type\":\"Legend\"}],\"left\":[{\"id\":\"1119\",\"type\":\"LinearAxis\"}],\"outline_line_color\":{\"value\":null},\"plot_height\":495,\"plot_width\":803,\"renderers\":[{\"id\":\"1141\",\"type\":\"GlyphRenderer\"}],\"title\":null,\"toolbar\":{\"id\":\"1130\",\"type\":\"Toolbar\"},\"toolbar_location\":null,\"x_range\":{\"id\":\"1105\",\"type\":\"FactorRange\"},\"x_scale\":{\"id\":\"1111\",\"type\":\"CategoricalScale\"},\"y_range\":{\"id\":\"1109\",\"type\":\"DataRange1d\"},\"y_scale\":{\"id\":\"1113\",\"type\":\"LinearScale\"}},\"id\":\"1106\",\"subtype\":\"Figure\",\"type\":\"Plot\"},{\"attributes\":{},\"id\":\"1111\",\"type\":\"CategoricalScale\"},{\"attributes\":{\"axis_label\":\"count\",\"formatter\":{\"id\":\"1144\",\"type\":\"BasicTickFormatter\"},\"minor_tick_line_color\":{\"value\":null},\"ticker\":{\"id\":\"1120\",\"type\":\"BasicTicker\"}},\"id\":\"1119\",\"type\":\"LinearAxis\"},{\"attributes\":{\"tools\":[{\"id\":\"1124\",\"type\":\"PanTool\"},{\"id\":\"1125\",\"type\":\"WheelZoomTool\"},{\"id\":\"1126\",\"type\":\"BoxZoomTool\"},{\"id\":\"1127\",\"type\":\"SaveTool\"},{\"id\":\"1128\",\"type\":\"ResetTool\"},{\"id\":\"1129\",\"type\":\"HelpTool\"},{\"id\":\"1151\",\"type\":\"HoverTool\"}]},\"id\":\"1163\",\"type\":\"ProxyToolbar\"}],\"root_ids\":[\"1165\"]},\"title\":\"Bokeh Application\",\"version\":\"1.3.0\"}}';\n",
       "          var render_items = [{\"docid\":\"dd05c287-4390-420c-8bfe-9cf7fe98ad53\",\"roots\":{\"1165\":\"a67982cb-04a3-4eb0-9fb3-f199bdc1067b\"}}];\n",
       "          root.Bokeh.embed.embed_items(docs_json, render_items);\n",
       "        \n",
       "          }\n",
       "          if (root.Bokeh !== undefined) {\n",
       "            embed_document(root);\n",
       "          } else {\n",
       "            var attempts = 0;\n",
       "            var timer = setInterval(function(root) {\n",
       "              if (root.Bokeh !== undefined) {\n",
       "                embed_document(root);\n",
       "                clearInterval(timer);\n",
       "              }\n",
       "              attempts++;\n",
       "              if (attempts > 100) {\n",
       "                console.log(\"Bokeh: ERROR: Unable to run BokehJS code because BokehJS library is missing\");\n",
       "                clearInterval(timer);\n",
       "              }\n",
       "            }, 10, root)\n",
       "          }\n",
       "        })(window);\n",
       "      });\n",
       "    };\n",
       "    if (document.readyState != \"loading\") fn();\n",
       "    else document.addEventListener(\"DOMContentLoaded\", fn);\n",
       "  })();\n",
       "<\\/script>`\n",
       "                                var chartscript = el.childNodes[1]\n",
       "                                var s = document.createElement(\"script\")\n",
       "                                s.innerHTML = chartscript.innerHTML\n",
       "                                d.parentNode.insertBefore(s, d)\n",
       "                            }\n",
       "                        }\n",
       "                    }\n",
       "                    if (!window.Bokeh && !window.autoload){\n",
       "                        window.autoload=true;\n",
       "                        \n",
       "(function(root) {\n",
       "  function now() {\n",
       "    return new Date();\n",
       "  }\n",
       "\n",
       "  var force = 1;\n",
       "\n",
       "  if (typeof root._bokeh_onload_callbacks === \"undefined\" || force === true) {\n",
       "    root._bokeh_onload_callbacks = [];\n",
       "    root._bokeh_is_loading = undefined;\n",
       "  }\n",
       "\n",
       "  \n",
       "\n",
       "  \n",
       "  if (typeof (root._bokeh_timeout) === \"undefined\" || force === true) {\n",
       "    root._bokeh_timeout = Date.now() + 5000;\n",
       "    root._bokeh_failed_load = false;\n",
       "  }\n",
       "\n",
       "  var NB_LOAD_WARNING = {'data': {'text/html':\n",
       "     \"<div style='background-color: #fdd'>\\n\"+\n",
       "     \"<p>\\n\"+\n",
       "     \"BokehJS does not appear to have successfully loaded. If loading BokehJS from CDN, this \\n\"+\n",
       "     \"may be due to a slow or bad network connection. Possible fixes:\\n\"+\n",
       "     \"</p>\\n\"+\n",
       "     \"<ul>\\n\"+\n",
       "     \"<li>re-rerun `output_notebook()` to attempt to load from CDN again, or</li>\\n\"+\n",
       "     \"<li>use INLINE resources instead, as so:</li>\\n\"+\n",
       "     \"</ul>\\n\"+\n",
       "     \"<code>\\n\"+\n",
       "     \"from bokeh.resources import INLINE\\n\"+\n",
       "     \"output_notebook(resources=INLINE)\\n\"+\n",
       "     \"</code>\\n\"+\n",
       "     \"</div>\"}};\n",
       "\n",
       "  function display_loaded() {\n",
       "    var el = document.getElementById(\"\");\n",
       "    if (el != null) {\n",
       "      el.textContent = \"BokehJS is loading...\";\n",
       "    }\n",
       "    if (root.Bokeh !== undefined) {\n",
       "      if (el != null) {\n",
       "        el.textContent = \"BokehJS \" + root.Bokeh.version + \" successfully loaded.\";\n",
       "      }\n",
       "    } else if (Date.now() < root._bokeh_timeout) {\n",
       "      setTimeout(display_loaded, 100)\n",
       "    }\n",
       "  }\n",
       "\n",
       "\n",
       "  function run_callbacks() {\n",
       "    try {\n",
       "      root._bokeh_onload_callbacks.forEach(function(callback) {\n",
       "        if (callback != null)\n",
       "          callback();\n",
       "      });\n",
       "    } finally {\n",
       "      delete root._bokeh_onload_callbacks\n",
       "    }\n",
       "    console.debug(\"Bokeh: all callbacks have finished\");\n",
       "  }\n",
       "\n",
       "  function load_libs(css_urls, js_urls, callback) {\n",
       "    if (css_urls == null) css_urls = [];\n",
       "    if (js_urls == null) js_urls = [];\n",
       "\n",
       "    root._bokeh_onload_callbacks.push(callback);\n",
       "    if (root._bokeh_is_loading > 0) {\n",
       "      console.debug(\"Bokeh: BokehJS is being loaded, scheduling callback at\", now());\n",
       "      return null;\n",
       "    }\n",
       "    if (js_urls == null || js_urls.length === 0) {\n",
       "      run_callbacks();\n",
       "      return null;\n",
       "    }\n",
       "    console.debug(\"Bokeh: BokehJS not loaded, scheduling load and callback at\", now());\n",
       "    root._bokeh_is_loading = css_urls.length + js_urls.length;\n",
       "\n",
       "    function on_load() {\n",
       "      root._bokeh_is_loading--;\n",
       "      if (root._bokeh_is_loading === 0) {\n",
       "        console.debug(\"Bokeh: all BokehJS libraries/stylesheets loaded\");\n",
       "        run_callbacks()\n",
       "      }\n",
       "    }\n",
       "\n",
       "    function on_error() {\n",
       "      console.error(\"failed to load \" + url);\n",
       "    }\n",
       "\n",
       "    for (var i = 0; i < css_urls.length; i++) {\n",
       "      var url = css_urls[i];\n",
       "      const element = document.createElement(\"link\");\n",
       "      element.onload = on_load;\n",
       "      element.onerror = on_error;\n",
       "      element.rel = \"stylesheet\";\n",
       "      element.type = \"text/css\";\n",
       "      element.href = url;\n",
       "      console.debug(\"Bokeh: injecting link tag for BokehJS stylesheet: \", url);\n",
       "      document.body.appendChild(element);\n",
       "    }\n",
       "\n",
       "    for (var i = 0; i < js_urls.length; i++) {\n",
       "      var url = js_urls[i];\n",
       "      var element = document.createElement('script');\n",
       "      element.onload = on_load;\n",
       "      element.onerror = on_error;\n",
       "      element.async = false;\n",
       "      element.src = url;\n",
       "      console.debug(\"Bokeh: injecting script tag for BokehJS library: \", url);\n",
       "      document.head.appendChild(element);\n",
       "    }\n",
       "  };\n",
       "\n",
       "  function inject_raw_css(css) {\n",
       "    const element = document.createElement(\"style\");\n",
       "    element.appendChild(document.createTextNode(css));\n",
       "    document.body.appendChild(element);\n",
       "  }\n",
       "\n",
       "  var js_urls = [\"https://cdn.pydata.org/bokeh/release/bokeh-1.3.0.min.js\", \"https://cdn.pydata.org/bokeh/release/bokeh-widgets-1.3.0.min.js\", \"https://cdn.pydata.org/bokeh/release/bokeh-tables-1.3.0.min.js\", \"https://cdn.pydata.org/bokeh/release/bokeh-gl-1.3.0.min.js\"];\n",
       "  var css_urls = [];\n",
       "\n",
       "  var inline_js = [\n",
       "    function(Bokeh) {\n",
       "      Bokeh.set_log_level(\"info\");\n",
       "    },\n",
       "    function(Bokeh) {} // ensure no trailing comma for IE\n",
       "  ];\n",
       "\n",
       "  function run_inline_js() {\n",
       "    \n",
       "    if ((root.Bokeh !== undefined) || (force === true)) {\n",
       "      for (var i = 0; i < inline_js.length; i++) {\n",
       "        inline_js[i].call(root, root.Bokeh);\n",
       "      }} else if (Date.now() < root._bokeh_timeout) {\n",
       "      setTimeout(run_inline_js, 100);\n",
       "    } else if (!root._bokeh_failed_load) {\n",
       "      console.log(\"Bokeh: BokehJS failed to load within specified timeout.\");\n",
       "      root._bokeh_failed_load = true;\n",
       "    } else if (force !== true) {\n",
       "      var cell = $(document.getElementById(\"\")).parents('.cell').data().cell;\n",
       "      cell.output_area.append_execute_result(NB_LOAD_WARNING)\n",
       "    }\n",
       "\n",
       "  }\n",
       "\n",
       "  if (root._bokeh_is_loading === 0) {\n",
       "    console.debug(\"Bokeh: BokehJS loaded, going straight to plotting\");\n",
       "    run_inline_js();\n",
       "  } else {\n",
       "    load_libs(css_urls, js_urls, function() {\n",
       "      console.debug(\"Bokeh: BokehJS plotting callback run at\", now());\n",
       "      run_inline_js();\n",
       "    });\n",
       "  }\n",
       "}(window));\n",
       "                    }\n",
       "                    setChartScript()\n",
       "                    </script>"
      ],
      "text/plain": [
       "<IPython.core.display.HTML object>"
      ]
     },
     "metadata": {},
     "output_type": "display_data"
    }
   ],
   "source": [
    "# Age band of the driver vs accident count group by accident severity\n",
    "\n",
    "Accident_count_by_age_band = joined_DF.groupby(\"age_band_of_driver\",\"Accident_Severity\") \\\n",
    "                                                        .count().sort(\"count\")\n",
    "display(Accident_count_by_age_band)"
   ]
  },
  {
   "cell_type": "code",
   "execution_count": null,
   "metadata": {
    "pixiedust": {
     "displayParams": {
      "chartsize": "77",
      "handlerId": "lineChart",
      "keyFields": "Day_of_Week",
      "logx": "false",
      "logy": "false",
      "rendererId": "bokeh",
      "timeseries": "false",
      "title": "Day of Week vs accident count",
      "valueFields": "count"
     }
    }
   },
   "outputs": [],
   "source": [
    "# Day of Week vs accident count \n",
    "\n",
    "Accident_count_by_days = joined_DF.groupby(\"Day_of_Week\",\"Accident_Severity\") \\\n",
    "                                                        .count().sort(\"count\")\n",
    "display(Accident_count_by_days)"
   ]
  },
  {
   "cell_type": "code",
   "execution_count": null,
   "metadata": {
    "pixiedust": {
     "displayParams": {
      "handlerId": "pieChart",
      "keyFields": "urban_or_rural_area",
      "title": "Urban/rural area vs accident count",
      "valueFields": "count",
      "ylabel": "false"
     }
    }
   },
   "outputs": [],
   "source": [
    "# urban_or_rural_area vs accident count \n",
    "\n",
    "Accident_count_by_urban_or_rural_area = joined_DF.groupby(\"urban_or_rural_area\",\"Accident_Severity\") \\\n",
    "                                                        .count().sort(\"count\")\n",
    "display(Accident_count_by_urban_or_rural_area)"
   ]
  },
  {
   "cell_type": "code",
   "execution_count": null,
   "metadata": {
    "pixiedust": {
     "displayParams": {
      "handlerId": "tableView",
      "keyFields": "engine_capacity_cc",
      "rendererId": "matplotlib",
      "valueFields": "count"
     }
    }
   },
   "outputs": [],
   "source": [
    "# engine_capacity_cc vs accident count \n",
    "\n",
    "Accident_count_by_engine_capacity_cc = joined_DF.groupby(\"engine_capacity_cc\",\"Accident_Severity\") \\\n",
    "                                                        .count().sort(\"count\")\n",
    "display(Accident_count_by_engine_capacity_cc)"
   ]
  },
  {
   "cell_type": "code",
   "execution_count": null,
   "metadata": {
    "pixiedust": {
     "displayParams": {
      "handlerId": "pieChart",
      "keyFields": "journey_purpose_of_driver",
      "legend": "true",
      "title": "journey/purpose of the driver vs accident percentage",
      "valueFields": "count",
      "ylabel": "false"
     }
    }
   },
   "outputs": [],
   "source": [
    "# journey_purpose_of_driver vs accident count \n",
    "\n",
    "Accident_count_by_journey_purpose_of_driver = joined_DF.groupby(\"journey_purpose_of_driver\",\"Accident_Severity\") \\\n",
    "                                                        .count().sort(\"count\")\n",
    "display(Accident_count_by_journey_purpose_of_driver)"
   ]
  },
  {
   "cell_type": "code",
   "execution_count": null,
   "metadata": {
    "pixiedust": {
     "displayParams": {
      "clusterby": "Accident_Severity",
      "handlerId": "barChart",
      "keyFields": "first_point_of_impact",
      "title": "# 1st_Point_of_Impact vs accident count ",
      "valueFields": "count"
     }
    }
   },
   "outputs": [],
   "source": [
    "# 1st_Point_of_Impact vs accident count \n",
    "\n",
    "Accident_count_by_1st_Point_of_Impact = joined_DF.groupby(\"first_point_of_impact\",\"Accident_Severity\") \\\n",
    "                                                        .count().sort(\"count\")\n",
    "display(Accident_count_by_1st_Point_of_Impact)"
   ]
  },
  {
   "cell_type": "code",
   "execution_count": null,
   "metadata": {},
   "outputs": [],
   "source": []
  }
 ],
 "metadata": {
  "kernelspec": {
   "display_name": "Python 3",
   "language": "python",
   "name": "python3"
  },
  "language_info": {
   "codemirror_mode": {
    "name": "ipython",
    "version": 3
   },
   "file_extension": ".py",
   "mimetype": "text/x-python",
   "name": "python",
   "nbconvert_exporter": "python",
   "pygments_lexer": "ipython3",
   "version": "3.6.8"
  },
  "toc": {
   "base_numbering": 1,
   "nav_menu": {},
   "number_sections": true,
   "sideBar": true,
   "skip_h1_title": false,
   "title_cell": "Table of Contents",
   "title_sidebar": "Contents",
   "toc_cell": false,
   "toc_position": {},
   "toc_section_display": true,
   "toc_window_display": false
  }
 },
 "nbformat": 4,
 "nbformat_minor": 2
}
